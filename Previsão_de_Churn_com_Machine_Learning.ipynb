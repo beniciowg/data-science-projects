{
  "nbformat": 4,
  "nbformat_minor": 0,
  "metadata": {
    "colab": {
      "name": "Previsão de Churn com Machine Learning.ipynb",
      "provenance": [],
      "collapsed_sections": [],
      "include_colab_link": true
    },
    "kernelspec": {
      "name": "python3",
      "display_name": "Python 3"
    }
  },
  "cells": [
    {
      "cell_type": "markdown",
      "metadata": {
        "id": "view-in-github",
        "colab_type": "text"
      },
      "source": [
        "<a href=\"https://colab.research.google.com/github/beniciowg/data-science-projects/blob/master/Previs%C3%A3o_de_Churn_com_Machine_Learning.ipynb\" target=\"_parent\"><img src=\"https://colab.research.google.com/assets/colab-badge.svg\" alt=\"Open In Colab\"/></a>"
      ]
    },
    {
      "cell_type": "markdown",
      "metadata": {
        "id": "IR56trFcPcC1",
        "colab_type": "text"
      },
      "source": [
        "# Churn Prediction\n",
        "\n",
        "<img src=\"https://docs.google.com/uc?export=download&id=1vE_md2mXC8vN3bQUyeH7d__xyF2S51tr\" width=\"100%\" align=\"center\">\n",
        "\n",
        "*Churn* é definido como a quantidade de clientes que cancelam o serviço da empresa em um determinado período de tempo. A taxa de *churn* (*churn rate*) mostra qual a porcentagem de cancelamento em relação ao total de clientes.\n",
        "\n",
        "Para que seja possível para uma empresa aumentar a sua base de clientes e aumentar seu faturamento, é importante que o *churn* seja menor do que o número de clientes novos. É um índice extremamente importante e que pode ser essencial na análise da aceitação dos produtos e serviços de uma empresa no mercado.\n",
        "\n",
        "Em geral, os custos para manter um cliente são menores do que o Custo de Aquisição de Cliente (CAC). Por isso, é muito importante conseguir prever quando ocorrerá um *churn* para que possam ser tomadas medidas para que o cliente permaneça.\n",
        "\n",
        "Neste notebook, vamos utilizar os dados de clientes de uma empresa de telecomunicações para analisar os perfis dos clientes que realizaram *churn* e criar um modelo de classificação para prever um potencial cancelamento.\n"
      ]
    },
    {
      "cell_type": "markdown",
      "metadata": {
        "id": "0HVmpIxQWT4Y",
        "colab_type": "text"
      },
      "source": [
        "## Aquisição dos Dados\n",
        "\n",
        "Para este projeto, os dados foram adquiridos da [plataforma de ensino da IBM Developer](https://developer.ibm.com/technologies/data-science/patterns/predict-customer-churn-using-watson-studio-and-jupyter-notebooks/#) e são referentes a uma empresa do setor de Telecomunicações. Não foram disponibilizadas muitas informações sobre as colunas, mas explorando-as conseguimos entendê-las melhor.\n"
      ]
    },
    {
      "cell_type": "code",
      "metadata": {
        "id": "EJkdmFQmUmGa",
        "colab_type": "code",
        "colab": {},
        "cellView": "form"
      },
      "source": [
        "#@title\n",
        "!pip install scikit-optimize -q"
      ],
      "execution_count": 1,
      "outputs": []
    },
    {
      "cell_type": "code",
      "metadata": {
        "id": "2nqaur98-kwU",
        "colab_type": "code",
        "colab": {},
        "cellView": "form"
      },
      "source": [
        "#@title\n",
        "!pip install scikit-plot -q"
      ],
      "execution_count": 2,
      "outputs": []
    },
    {
      "cell_type": "code",
      "metadata": {
        "id": "oQ4bNy7udtEE",
        "colab_type": "code",
        "colab": {
          "base_uri": "https://localhost:8080/",
          "height": 400
        },
        "outputId": "268c4b09-cd31-4546-f1d9-57674071d318"
      },
      "source": [
        "# importando os pacotes necessários\n",
        "import pandas as pd\n",
        "import numpy as np\n",
        "import matplotlib.pyplot as plt\n",
        "from matplotlib.ticker import StrMethodFormatter\n",
        "import seaborn as sns\n",
        "from sklearn.preprocessing import StandardScaler, LabelEncoder\n",
        "from sklearn.model_selection import train_test_split\n",
        "from sklearn.model_selection import cross_val_score\n",
        "from sklearn.pipeline import make_pipeline\n",
        "from xgboost import XGBClassifier\n",
        "from imblearn.under_sampling import RandomUnderSampler\n",
        "from imblearn.over_sampling import SMOTE\n",
        "from lightgbm import LGBMClassifier\n",
        "from sklearn.linear_model import LogisticRegression\n",
        "from sklearn.ensemble import RandomForestClassifier\n",
        "from sklearn.svm import SVC\n",
        "from skopt import BayesSearchCV\n",
        "from skopt.space import Real, Categorical, Integer\n",
        "from sklearn.model_selection import StratifiedKFold\n",
        "import scikitplot as skplt\n",
        "from sklearn.metrics import auc, classification_report, confusion_matrix, precision_recall_curve, recall_score\n",
        "\n",
        "sns.set_style('dark')\n",
        "\n",
        "# importar os dados\n",
        "DATA_PATH = \"https://raw.githubusercontent.com/carlosfab/dsnp2/master/datasets/WA_Fn-UseC_-Telco-Customer-Churn.csv\"\n",
        "df = pd.read_csv(DATA_PATH)\n",
        "\n",
        "# ver as 5 primeiras entradas\n",
        "df.head()"
      ],
      "execution_count": 3,
      "outputs": [
        {
          "output_type": "stream",
          "text": [
            "/usr/local/lib/python3.6/dist-packages/statsmodels/tools/_testing.py:19: FutureWarning: pandas.util.testing is deprecated. Use the functions in the public API at pandas.testing instead.\n",
            "  import pandas.util.testing as tm\n",
            "/usr/local/lib/python3.6/dist-packages/sklearn/externals/six.py:31: FutureWarning: The module is deprecated in version 0.21 and will be removed in version 0.23 since we've dropped support for Python 2.7. Please rely on the official version of six (https://pypi.org/project/six/).\n",
            "  \"(https://pypi.org/project/six/).\", FutureWarning)\n",
            "/usr/local/lib/python3.6/dist-packages/sklearn/utils/deprecation.py:144: FutureWarning: The sklearn.neighbors.base module is  deprecated in version 0.22 and will be removed in version 0.24. The corresponding classes / functions should instead be imported from sklearn.neighbors. Anything that cannot be imported from sklearn.neighbors is now part of the private API.\n",
            "  warnings.warn(message, FutureWarning)\n"
          ],
          "name": "stderr"
        },
        {
          "output_type": "execute_result",
          "data": {
            "text/html": [
              "<div>\n",
              "<style scoped>\n",
              "    .dataframe tbody tr th:only-of-type {\n",
              "        vertical-align: middle;\n",
              "    }\n",
              "\n",
              "    .dataframe tbody tr th {\n",
              "        vertical-align: top;\n",
              "    }\n",
              "\n",
              "    .dataframe thead th {\n",
              "        text-align: right;\n",
              "    }\n",
              "</style>\n",
              "<table border=\"1\" class=\"dataframe\">\n",
              "  <thead>\n",
              "    <tr style=\"text-align: right;\">\n",
              "      <th></th>\n",
              "      <th>customerID</th>\n",
              "      <th>gender</th>\n",
              "      <th>SeniorCitizen</th>\n",
              "      <th>Partner</th>\n",
              "      <th>Dependents</th>\n",
              "      <th>tenure</th>\n",
              "      <th>PhoneService</th>\n",
              "      <th>MultipleLines</th>\n",
              "      <th>InternetService</th>\n",
              "      <th>OnlineSecurity</th>\n",
              "      <th>OnlineBackup</th>\n",
              "      <th>DeviceProtection</th>\n",
              "      <th>TechSupport</th>\n",
              "      <th>StreamingTV</th>\n",
              "      <th>StreamingMovies</th>\n",
              "      <th>Contract</th>\n",
              "      <th>PaperlessBilling</th>\n",
              "      <th>PaymentMethod</th>\n",
              "      <th>MonthlyCharges</th>\n",
              "      <th>TotalCharges</th>\n",
              "      <th>Churn</th>\n",
              "    </tr>\n",
              "  </thead>\n",
              "  <tbody>\n",
              "    <tr>\n",
              "      <th>0</th>\n",
              "      <td>7590-VHVEG</td>\n",
              "      <td>Female</td>\n",
              "      <td>0</td>\n",
              "      <td>Yes</td>\n",
              "      <td>No</td>\n",
              "      <td>1</td>\n",
              "      <td>No</td>\n",
              "      <td>No phone service</td>\n",
              "      <td>DSL</td>\n",
              "      <td>No</td>\n",
              "      <td>Yes</td>\n",
              "      <td>No</td>\n",
              "      <td>No</td>\n",
              "      <td>No</td>\n",
              "      <td>No</td>\n",
              "      <td>Month-to-month</td>\n",
              "      <td>Yes</td>\n",
              "      <td>Electronic check</td>\n",
              "      <td>29.85</td>\n",
              "      <td>29.85</td>\n",
              "      <td>No</td>\n",
              "    </tr>\n",
              "    <tr>\n",
              "      <th>1</th>\n",
              "      <td>5575-GNVDE</td>\n",
              "      <td>Male</td>\n",
              "      <td>0</td>\n",
              "      <td>No</td>\n",
              "      <td>No</td>\n",
              "      <td>34</td>\n",
              "      <td>Yes</td>\n",
              "      <td>No</td>\n",
              "      <td>DSL</td>\n",
              "      <td>Yes</td>\n",
              "      <td>No</td>\n",
              "      <td>Yes</td>\n",
              "      <td>No</td>\n",
              "      <td>No</td>\n",
              "      <td>No</td>\n",
              "      <td>One year</td>\n",
              "      <td>No</td>\n",
              "      <td>Mailed check</td>\n",
              "      <td>56.95</td>\n",
              "      <td>1889.5</td>\n",
              "      <td>No</td>\n",
              "    </tr>\n",
              "    <tr>\n",
              "      <th>2</th>\n",
              "      <td>3668-QPYBK</td>\n",
              "      <td>Male</td>\n",
              "      <td>0</td>\n",
              "      <td>No</td>\n",
              "      <td>No</td>\n",
              "      <td>2</td>\n",
              "      <td>Yes</td>\n",
              "      <td>No</td>\n",
              "      <td>DSL</td>\n",
              "      <td>Yes</td>\n",
              "      <td>Yes</td>\n",
              "      <td>No</td>\n",
              "      <td>No</td>\n",
              "      <td>No</td>\n",
              "      <td>No</td>\n",
              "      <td>Month-to-month</td>\n",
              "      <td>Yes</td>\n",
              "      <td>Mailed check</td>\n",
              "      <td>53.85</td>\n",
              "      <td>108.15</td>\n",
              "      <td>Yes</td>\n",
              "    </tr>\n",
              "    <tr>\n",
              "      <th>3</th>\n",
              "      <td>7795-CFOCW</td>\n",
              "      <td>Male</td>\n",
              "      <td>0</td>\n",
              "      <td>No</td>\n",
              "      <td>No</td>\n",
              "      <td>45</td>\n",
              "      <td>No</td>\n",
              "      <td>No phone service</td>\n",
              "      <td>DSL</td>\n",
              "      <td>Yes</td>\n",
              "      <td>No</td>\n",
              "      <td>Yes</td>\n",
              "      <td>Yes</td>\n",
              "      <td>No</td>\n",
              "      <td>No</td>\n",
              "      <td>One year</td>\n",
              "      <td>No</td>\n",
              "      <td>Bank transfer (automatic)</td>\n",
              "      <td>42.30</td>\n",
              "      <td>1840.75</td>\n",
              "      <td>No</td>\n",
              "    </tr>\n",
              "    <tr>\n",
              "      <th>4</th>\n",
              "      <td>9237-HQITU</td>\n",
              "      <td>Female</td>\n",
              "      <td>0</td>\n",
              "      <td>No</td>\n",
              "      <td>No</td>\n",
              "      <td>2</td>\n",
              "      <td>Yes</td>\n",
              "      <td>No</td>\n",
              "      <td>Fiber optic</td>\n",
              "      <td>No</td>\n",
              "      <td>No</td>\n",
              "      <td>No</td>\n",
              "      <td>No</td>\n",
              "      <td>No</td>\n",
              "      <td>No</td>\n",
              "      <td>Month-to-month</td>\n",
              "      <td>Yes</td>\n",
              "      <td>Electronic check</td>\n",
              "      <td>70.70</td>\n",
              "      <td>151.65</td>\n",
              "      <td>Yes</td>\n",
              "    </tr>\n",
              "  </tbody>\n",
              "</table>\n",
              "</div>"
            ],
            "text/plain": [
              "   customerID  gender  SeniorCitizen  ... MonthlyCharges TotalCharges  Churn\n",
              "0  7590-VHVEG  Female              0  ...          29.85        29.85     No\n",
              "1  5575-GNVDE    Male              0  ...          56.95       1889.5     No\n",
              "2  3668-QPYBK    Male              0  ...          53.85       108.15    Yes\n",
              "3  7795-CFOCW    Male              0  ...          42.30      1840.75     No\n",
              "4  9237-HQITU  Female              0  ...          70.70       151.65    Yes\n",
              "\n",
              "[5 rows x 21 columns]"
            ]
          },
          "metadata": {
            "tags": []
          },
          "execution_count": 3
        }
      ]
    },
    {
      "cell_type": "markdown",
      "metadata": {
        "id": "BtV70Hqm9SHR",
        "colab_type": "text"
      },
      "source": [
        "Vemos a presença de uma coluna com o ID do cliente e três colunas numéricas (`tenure`, `MonthlyCharges` e `TotalCharges`). Além disso, nosso dataset possui muitas variáveis categóricas e, com exceção de `SeniorCitizen`, todas possuem categorias designadas por texto. Isso deverá ser tratado mais a frente para que possamos utilizá-las em nossos modelos de *machine learning*.\n",
        "\n",
        "`MonthlyCharges` e `TotalCharges` são intuitivas de se entender, sendo referentes às cobranças mensais feitas a um cliente e o total que pagou ao longo do tempo até agora, respectivamente. `tenure`, no entanto, requer um pouco de pesquisa e significa o tempo (em meses) que o cliente está na empresa ou o tempo que ele permaneceu até sair."
      ]
    },
    {
      "cell_type": "code",
      "metadata": {
        "id": "qYBD39fyF2L8",
        "colab_type": "code",
        "colab": {
          "base_uri": "https://localhost:8080/",
          "height": 487
        },
        "outputId": "4a047bee-b7ad-4382-8720-ae47d8c458e5"
      },
      "source": [
        "df.info()"
      ],
      "execution_count": 4,
      "outputs": [
        {
          "output_type": "stream",
          "text": [
            "<class 'pandas.core.frame.DataFrame'>\n",
            "RangeIndex: 7043 entries, 0 to 7042\n",
            "Data columns (total 21 columns):\n",
            " #   Column            Non-Null Count  Dtype  \n",
            "---  ------            --------------  -----  \n",
            " 0   customerID        7043 non-null   object \n",
            " 1   gender            7043 non-null   object \n",
            " 2   SeniorCitizen     7043 non-null   int64  \n",
            " 3   Partner           7043 non-null   object \n",
            " 4   Dependents        7043 non-null   object \n",
            " 5   tenure            7043 non-null   int64  \n",
            " 6   PhoneService      7043 non-null   object \n",
            " 7   MultipleLines     7043 non-null   object \n",
            " 8   InternetService   7043 non-null   object \n",
            " 9   OnlineSecurity    7043 non-null   object \n",
            " 10  OnlineBackup      7043 non-null   object \n",
            " 11  DeviceProtection  7043 non-null   object \n",
            " 12  TechSupport       7043 non-null   object \n",
            " 13  StreamingTV       7043 non-null   object \n",
            " 14  StreamingMovies   7043 non-null   object \n",
            " 15  Contract          7043 non-null   object \n",
            " 16  PaperlessBilling  7043 non-null   object \n",
            " 17  PaymentMethod     7043 non-null   object \n",
            " 18  MonthlyCharges    7043 non-null   float64\n",
            " 19  TotalCharges      7043 non-null   object \n",
            " 20  Churn             7043 non-null   object \n",
            "dtypes: float64(1), int64(2), object(18)\n",
            "memory usage: 1.1+ MB\n"
          ],
          "name": "stdout"
        }
      ]
    },
    {
      "cell_type": "markdown",
      "metadata": {
        "id": "5ZaLmOy6-g6l",
        "colab_type": "text"
      },
      "source": [
        "Verificamos que nosso dataset possui 7043 entradas e 21 colunas. Pode-se destacar também o fato de não termos valores nulos. Entretanto, a coluna `TotalCharges`está como tipo `object` enquanto deveria ser do tipo `float`.\n",
        "\n",
        "Ao tentar rodar o seguinte código: `df['TotalCharges'].astype(float)`, obtemos um erro. Isso significa que algum valor de nossa coluna não é numérico, podendo ser algum texto colocado de forma errada ou valores não preenchidos. Vamos primeiramente procurar por valores não preenchidos."
      ]
    },
    {
      "cell_type": "code",
      "metadata": {
        "id": "TCbm9JssGjNq",
        "colab_type": "code",
        "colab": {
          "base_uri": "https://localhost:8080/",
          "height": 578
        },
        "outputId": "b92ecf77-d3f5-4c81-927c-32c2a637b5e1"
      },
      "source": [
        "# procurando por valores não preenchidos\n",
        "df[df['TotalCharges'] == \" \"]"
      ],
      "execution_count": 5,
      "outputs": [
        {
          "output_type": "execute_result",
          "data": {
            "text/html": [
              "<div>\n",
              "<style scoped>\n",
              "    .dataframe tbody tr th:only-of-type {\n",
              "        vertical-align: middle;\n",
              "    }\n",
              "\n",
              "    .dataframe tbody tr th {\n",
              "        vertical-align: top;\n",
              "    }\n",
              "\n",
              "    .dataframe thead th {\n",
              "        text-align: right;\n",
              "    }\n",
              "</style>\n",
              "<table border=\"1\" class=\"dataframe\">\n",
              "  <thead>\n",
              "    <tr style=\"text-align: right;\">\n",
              "      <th></th>\n",
              "      <th>customerID</th>\n",
              "      <th>gender</th>\n",
              "      <th>SeniorCitizen</th>\n",
              "      <th>Partner</th>\n",
              "      <th>Dependents</th>\n",
              "      <th>tenure</th>\n",
              "      <th>PhoneService</th>\n",
              "      <th>MultipleLines</th>\n",
              "      <th>InternetService</th>\n",
              "      <th>OnlineSecurity</th>\n",
              "      <th>OnlineBackup</th>\n",
              "      <th>DeviceProtection</th>\n",
              "      <th>TechSupport</th>\n",
              "      <th>StreamingTV</th>\n",
              "      <th>StreamingMovies</th>\n",
              "      <th>Contract</th>\n",
              "      <th>PaperlessBilling</th>\n",
              "      <th>PaymentMethod</th>\n",
              "      <th>MonthlyCharges</th>\n",
              "      <th>TotalCharges</th>\n",
              "      <th>Churn</th>\n",
              "    </tr>\n",
              "  </thead>\n",
              "  <tbody>\n",
              "    <tr>\n",
              "      <th>488</th>\n",
              "      <td>4472-LVYGI</td>\n",
              "      <td>Female</td>\n",
              "      <td>0</td>\n",
              "      <td>Yes</td>\n",
              "      <td>Yes</td>\n",
              "      <td>0</td>\n",
              "      <td>No</td>\n",
              "      <td>No phone service</td>\n",
              "      <td>DSL</td>\n",
              "      <td>Yes</td>\n",
              "      <td>No</td>\n",
              "      <td>Yes</td>\n",
              "      <td>Yes</td>\n",
              "      <td>Yes</td>\n",
              "      <td>No</td>\n",
              "      <td>Two year</td>\n",
              "      <td>Yes</td>\n",
              "      <td>Bank transfer (automatic)</td>\n",
              "      <td>52.55</td>\n",
              "      <td></td>\n",
              "      <td>No</td>\n",
              "    </tr>\n",
              "    <tr>\n",
              "      <th>753</th>\n",
              "      <td>3115-CZMZD</td>\n",
              "      <td>Male</td>\n",
              "      <td>0</td>\n",
              "      <td>No</td>\n",
              "      <td>Yes</td>\n",
              "      <td>0</td>\n",
              "      <td>Yes</td>\n",
              "      <td>No</td>\n",
              "      <td>No</td>\n",
              "      <td>No internet service</td>\n",
              "      <td>No internet service</td>\n",
              "      <td>No internet service</td>\n",
              "      <td>No internet service</td>\n",
              "      <td>No internet service</td>\n",
              "      <td>No internet service</td>\n",
              "      <td>Two year</td>\n",
              "      <td>No</td>\n",
              "      <td>Mailed check</td>\n",
              "      <td>20.25</td>\n",
              "      <td></td>\n",
              "      <td>No</td>\n",
              "    </tr>\n",
              "    <tr>\n",
              "      <th>936</th>\n",
              "      <td>5709-LVOEQ</td>\n",
              "      <td>Female</td>\n",
              "      <td>0</td>\n",
              "      <td>Yes</td>\n",
              "      <td>Yes</td>\n",
              "      <td>0</td>\n",
              "      <td>Yes</td>\n",
              "      <td>No</td>\n",
              "      <td>DSL</td>\n",
              "      <td>Yes</td>\n",
              "      <td>Yes</td>\n",
              "      <td>Yes</td>\n",
              "      <td>No</td>\n",
              "      <td>Yes</td>\n",
              "      <td>Yes</td>\n",
              "      <td>Two year</td>\n",
              "      <td>No</td>\n",
              "      <td>Mailed check</td>\n",
              "      <td>80.85</td>\n",
              "      <td></td>\n",
              "      <td>No</td>\n",
              "    </tr>\n",
              "    <tr>\n",
              "      <th>1082</th>\n",
              "      <td>4367-NUYAO</td>\n",
              "      <td>Male</td>\n",
              "      <td>0</td>\n",
              "      <td>Yes</td>\n",
              "      <td>Yes</td>\n",
              "      <td>0</td>\n",
              "      <td>Yes</td>\n",
              "      <td>Yes</td>\n",
              "      <td>No</td>\n",
              "      <td>No internet service</td>\n",
              "      <td>No internet service</td>\n",
              "      <td>No internet service</td>\n",
              "      <td>No internet service</td>\n",
              "      <td>No internet service</td>\n",
              "      <td>No internet service</td>\n",
              "      <td>Two year</td>\n",
              "      <td>No</td>\n",
              "      <td>Mailed check</td>\n",
              "      <td>25.75</td>\n",
              "      <td></td>\n",
              "      <td>No</td>\n",
              "    </tr>\n",
              "    <tr>\n",
              "      <th>1340</th>\n",
              "      <td>1371-DWPAZ</td>\n",
              "      <td>Female</td>\n",
              "      <td>0</td>\n",
              "      <td>Yes</td>\n",
              "      <td>Yes</td>\n",
              "      <td>0</td>\n",
              "      <td>No</td>\n",
              "      <td>No phone service</td>\n",
              "      <td>DSL</td>\n",
              "      <td>Yes</td>\n",
              "      <td>Yes</td>\n",
              "      <td>Yes</td>\n",
              "      <td>Yes</td>\n",
              "      <td>Yes</td>\n",
              "      <td>No</td>\n",
              "      <td>Two year</td>\n",
              "      <td>No</td>\n",
              "      <td>Credit card (automatic)</td>\n",
              "      <td>56.05</td>\n",
              "      <td></td>\n",
              "      <td>No</td>\n",
              "    </tr>\n",
              "    <tr>\n",
              "      <th>3331</th>\n",
              "      <td>7644-OMVMY</td>\n",
              "      <td>Male</td>\n",
              "      <td>0</td>\n",
              "      <td>Yes</td>\n",
              "      <td>Yes</td>\n",
              "      <td>0</td>\n",
              "      <td>Yes</td>\n",
              "      <td>No</td>\n",
              "      <td>No</td>\n",
              "      <td>No internet service</td>\n",
              "      <td>No internet service</td>\n",
              "      <td>No internet service</td>\n",
              "      <td>No internet service</td>\n",
              "      <td>No internet service</td>\n",
              "      <td>No internet service</td>\n",
              "      <td>Two year</td>\n",
              "      <td>No</td>\n",
              "      <td>Mailed check</td>\n",
              "      <td>19.85</td>\n",
              "      <td></td>\n",
              "      <td>No</td>\n",
              "    </tr>\n",
              "    <tr>\n",
              "      <th>3826</th>\n",
              "      <td>3213-VVOLG</td>\n",
              "      <td>Male</td>\n",
              "      <td>0</td>\n",
              "      <td>Yes</td>\n",
              "      <td>Yes</td>\n",
              "      <td>0</td>\n",
              "      <td>Yes</td>\n",
              "      <td>Yes</td>\n",
              "      <td>No</td>\n",
              "      <td>No internet service</td>\n",
              "      <td>No internet service</td>\n",
              "      <td>No internet service</td>\n",
              "      <td>No internet service</td>\n",
              "      <td>No internet service</td>\n",
              "      <td>No internet service</td>\n",
              "      <td>Two year</td>\n",
              "      <td>No</td>\n",
              "      <td>Mailed check</td>\n",
              "      <td>25.35</td>\n",
              "      <td></td>\n",
              "      <td>No</td>\n",
              "    </tr>\n",
              "    <tr>\n",
              "      <th>4380</th>\n",
              "      <td>2520-SGTTA</td>\n",
              "      <td>Female</td>\n",
              "      <td>0</td>\n",
              "      <td>Yes</td>\n",
              "      <td>Yes</td>\n",
              "      <td>0</td>\n",
              "      <td>Yes</td>\n",
              "      <td>No</td>\n",
              "      <td>No</td>\n",
              "      <td>No internet service</td>\n",
              "      <td>No internet service</td>\n",
              "      <td>No internet service</td>\n",
              "      <td>No internet service</td>\n",
              "      <td>No internet service</td>\n",
              "      <td>No internet service</td>\n",
              "      <td>Two year</td>\n",
              "      <td>No</td>\n",
              "      <td>Mailed check</td>\n",
              "      <td>20.00</td>\n",
              "      <td></td>\n",
              "      <td>No</td>\n",
              "    </tr>\n",
              "    <tr>\n",
              "      <th>5218</th>\n",
              "      <td>2923-ARZLG</td>\n",
              "      <td>Male</td>\n",
              "      <td>0</td>\n",
              "      <td>Yes</td>\n",
              "      <td>Yes</td>\n",
              "      <td>0</td>\n",
              "      <td>Yes</td>\n",
              "      <td>No</td>\n",
              "      <td>No</td>\n",
              "      <td>No internet service</td>\n",
              "      <td>No internet service</td>\n",
              "      <td>No internet service</td>\n",
              "      <td>No internet service</td>\n",
              "      <td>No internet service</td>\n",
              "      <td>No internet service</td>\n",
              "      <td>One year</td>\n",
              "      <td>Yes</td>\n",
              "      <td>Mailed check</td>\n",
              "      <td>19.70</td>\n",
              "      <td></td>\n",
              "      <td>No</td>\n",
              "    </tr>\n",
              "    <tr>\n",
              "      <th>6670</th>\n",
              "      <td>4075-WKNIU</td>\n",
              "      <td>Female</td>\n",
              "      <td>0</td>\n",
              "      <td>Yes</td>\n",
              "      <td>Yes</td>\n",
              "      <td>0</td>\n",
              "      <td>Yes</td>\n",
              "      <td>Yes</td>\n",
              "      <td>DSL</td>\n",
              "      <td>No</td>\n",
              "      <td>Yes</td>\n",
              "      <td>Yes</td>\n",
              "      <td>Yes</td>\n",
              "      <td>Yes</td>\n",
              "      <td>No</td>\n",
              "      <td>Two year</td>\n",
              "      <td>No</td>\n",
              "      <td>Mailed check</td>\n",
              "      <td>73.35</td>\n",
              "      <td></td>\n",
              "      <td>No</td>\n",
              "    </tr>\n",
              "    <tr>\n",
              "      <th>6754</th>\n",
              "      <td>2775-SEFEE</td>\n",
              "      <td>Male</td>\n",
              "      <td>0</td>\n",
              "      <td>No</td>\n",
              "      <td>Yes</td>\n",
              "      <td>0</td>\n",
              "      <td>Yes</td>\n",
              "      <td>Yes</td>\n",
              "      <td>DSL</td>\n",
              "      <td>Yes</td>\n",
              "      <td>Yes</td>\n",
              "      <td>No</td>\n",
              "      <td>Yes</td>\n",
              "      <td>No</td>\n",
              "      <td>No</td>\n",
              "      <td>Two year</td>\n",
              "      <td>Yes</td>\n",
              "      <td>Bank transfer (automatic)</td>\n",
              "      <td>61.90</td>\n",
              "      <td></td>\n",
              "      <td>No</td>\n",
              "    </tr>\n",
              "  </tbody>\n",
              "</table>\n",
              "</div>"
            ],
            "text/plain": [
              "      customerID  gender  SeniorCitizen  ... MonthlyCharges TotalCharges  Churn\n",
              "488   4472-LVYGI  Female              0  ...          52.55                  No\n",
              "753   3115-CZMZD    Male              0  ...          20.25                  No\n",
              "936   5709-LVOEQ  Female              0  ...          80.85                  No\n",
              "1082  4367-NUYAO    Male              0  ...          25.75                  No\n",
              "1340  1371-DWPAZ  Female              0  ...          56.05                  No\n",
              "3331  7644-OMVMY    Male              0  ...          19.85                  No\n",
              "3826  3213-VVOLG    Male              0  ...          25.35                  No\n",
              "4380  2520-SGTTA  Female              0  ...          20.00                  No\n",
              "5218  2923-ARZLG    Male              0  ...          19.70                  No\n",
              "6670  4075-WKNIU  Female              0  ...          73.35                  No\n",
              "6754  2775-SEFEE    Male              0  ...          61.90                  No\n",
              "\n",
              "[11 rows x 21 columns]"
            ]
          },
          "metadata": {
            "tags": []
          },
          "execution_count": 5
        }
      ]
    },
    {
      "cell_type": "code",
      "metadata": {
        "id": "EOzZz-5oAVVZ",
        "colab_type": "code",
        "colab": {
          "base_uri": "https://localhost:8080/",
          "height": 34
        },
        "outputId": "a2e0fce5-ef82-4c36-9f30-7020fab1ca81"
      },
      "source": [
        "print(f'Quantidade de valores não preenchidos: {df[df.TotalCharges == \" \"].shape[0]}')"
      ],
      "execution_count": 6,
      "outputs": [
        {
          "output_type": "stream",
          "text": [
            "Quantidade de valores não preenchidos: 11\n"
          ],
          "name": "stdout"
        }
      ]
    },
    {
      "cell_type": "markdown",
      "metadata": {
        "id": "zXSWLF_WFiai",
        "colab_type": "text"
      },
      "source": [
        "Podemos perceber que temos 11 entradas na coluna `TotalCharges` que não foram preenchidas corretamente e, por isso, vamos criar uma função para transformá-la para o tipo `float` e retornar como `NaN` os valores não preenchidos. Após a conversão, iremos tratar tais valores substituindo-os pela mediana."
      ]
    },
    {
      "cell_type": "code",
      "metadata": {
        "id": "zyf4P7rOHz0i",
        "colab_type": "code",
        "colab": {
          "base_uri": "https://localhost:8080/",
          "height": 50
        },
        "outputId": "b1211374-59b9-42a5-cd05-caeeabf6db74"
      },
      "source": [
        "def conversor_str_float(arg):\n",
        "  \"\"\"\n",
        "Converte uma entrada do tipo string em float\n",
        "\n",
        "# Argumento: str\n",
        "# Retorna: valor ou lista convertido para o tipo float\n",
        "# Em caso de erro retorna NaN\n",
        "\n",
        "  \"\"\"\n",
        "  try:\n",
        "    return float(arg)\n",
        "  except ValueError:\n",
        "    return np.nan\n",
        "\n",
        "# criando uma cópia do dataset para realizar as operações de limpeza\n",
        "df_clean = df.copy()\n",
        "\n",
        "# usando o conversor criado para converter nossa coluna TotalCharges em float\n",
        "df_clean['TotalCharges'] = df_clean['TotalCharges'].apply(conversor_str_float)\n",
        "\n",
        "# verificando o tipo e a quantidade de valores nulos em TotalCharges\n",
        "print(f'Tipo de TotalCharges: {df_clean.TotalCharges.dtype}')\n",
        "print(f'Quantidade de valores nulos: {df_clean[\"TotalCharges\"].isnull().sum()}')"
      ],
      "execution_count": 7,
      "outputs": [
        {
          "output_type": "stream",
          "text": [
            "Tipo de TotalCharges: float64\n",
            "Quantidade de valores nulos: 11\n"
          ],
          "name": "stdout"
        }
      ]
    },
    {
      "cell_type": "code",
      "metadata": {
        "id": "1lqrDHzeM_OM",
        "colab_type": "code",
        "colab": {
          "base_uri": "https://localhost:8080/",
          "height": 34
        },
        "outputId": "f5402a00-9155-4ebd-e267-ec9ba968b3f2"
      },
      "source": [
        "# preencher os valores nulos de TotalCharges com a mediana\n",
        "median = df_clean['TotalCharges'].median()\n",
        "df_clean['TotalCharges'].fillna(median, inplace=True)\n",
        "\n",
        "# checando o número de valores nulos para ter certeza que foram preenchidos\n",
        "print(f'Quantidade de valores nulos: {df_clean[\"TotalCharges\"].isnull().sum()}')"
      ],
      "execution_count": 8,
      "outputs": [
        {
          "output_type": "stream",
          "text": [
            "Quantidade de valores nulos: 0\n"
          ],
          "name": "stdout"
        }
      ]
    },
    {
      "cell_type": "markdown",
      "metadata": {
        "id": "sxSbwTcQHEXA",
        "colab_type": "text"
      },
      "source": [
        "Pronto! Conferimos que a coluna `TotalCharges` está com o tipo correto e os valores nulos batem com a quantidade de entradas sem preenchimento, o que significa que não temos mais entradas preenchidas de forma equivocada. Após preenchermos com a mediana, a coluna não possui mais valores ausentes.\n",
        "\n",
        "Vamos prosseguir com a análise conferindo o número de valores únicos por coluna, poderemos verificar quais colunas categóricas são binárias e quais possuem mais de duas categorias, assim como se há algum cliente com mais de uma entrada."
      ]
    },
    {
      "cell_type": "code",
      "metadata": {
        "id": "kB3LelFqPJVp",
        "colab_type": "code",
        "colab": {
          "base_uri": "https://localhost:8080/",
          "height": 403
        },
        "outputId": "99101034-1735-4a9c-d80a-07bb060afad9"
      },
      "source": [
        "# verificando o quantidade de valores únicos em cada coluna\n",
        "print('Quantidade de valores únicos por coluna:', '\\n')\n",
        "\n",
        "for col in df_clean.columns:\n",
        "  print(f'{col}: {df_clean[col].nunique()}')"
      ],
      "execution_count": 9,
      "outputs": [
        {
          "output_type": "stream",
          "text": [
            "Quantidade de valores únicos por coluna: \n",
            "\n",
            "customerID: 7043\n",
            "gender: 2\n",
            "SeniorCitizen: 2\n",
            "Partner: 2\n",
            "Dependents: 2\n",
            "tenure: 73\n",
            "PhoneService: 2\n",
            "MultipleLines: 3\n",
            "InternetService: 3\n",
            "OnlineSecurity: 3\n",
            "OnlineBackup: 3\n",
            "DeviceProtection: 3\n",
            "TechSupport: 3\n",
            "StreamingTV: 3\n",
            "StreamingMovies: 3\n",
            "Contract: 3\n",
            "PaperlessBilling: 2\n",
            "PaymentMethod: 4\n",
            "MonthlyCharges: 1585\n",
            "TotalCharges: 6531\n",
            "Churn: 2\n"
          ],
          "name": "stdout"
        }
      ]
    },
    {
      "cell_type": "markdown",
      "metadata": {
        "id": "H-3xGuefZuh_",
        "colab_type": "text"
      },
      "source": [
        "A coluna de `costumerID` possui 7043 entradas diferentes, o que denota que não há informações duplicadas de clientes.\n",
        "\n",
        "Pode-se perceber, também, que temos 7 colunas categóricas binárias, 9 contendo 3 categorias diferentes e apenas uma com 4 categorias. Nosso dataset apresenta informações redundantes, pois possuimos uma coluna que indica se o cliente possui serviço de internet (`InternetService`) e outra se possui serviço telefônico (`PhoneService`) e também temos essas informações dentro de outras colunas categóricas (`MultipleLines`, `OnlineSecurity`, `OnlineBackup`, `DeviceProtection`, `TechSupport`, `StreamingTV` e `StreamingMovies`). \n",
        "\n",
        "Sendo assim, iremos substituir as entradas de *No phone service* e *No internet service* por *No*."
      ]
    },
    {
      "cell_type": "code",
      "metadata": {
        "id": "1cax9xS5wTdG",
        "colab_type": "code",
        "colab": {
          "base_uri": "https://localhost:8080/",
          "height": 403
        },
        "outputId": "6e318f73-9c0c-4ea4-f2d1-725e6cb24e1a"
      },
      "source": [
        "# substituindo o preenchimento\n",
        "replace = {'No phone service': 'No',\n",
        "           'No internet service': 'No'}\n",
        "df_clean.replace(replace, inplace=True)\n",
        "\n",
        "# verificando o quantidade de valores únicos em cada coluna\n",
        "print('Quantidade de valores únicos por coluna:', '\\n')\n",
        "\n",
        "for col in df_clean.columns:\n",
        "  print(f'{col}: {df_clean[col].nunique()}')"
      ],
      "execution_count": 10,
      "outputs": [
        {
          "output_type": "stream",
          "text": [
            "Quantidade de valores únicos por coluna: \n",
            "\n",
            "customerID: 7043\n",
            "gender: 2\n",
            "SeniorCitizen: 2\n",
            "Partner: 2\n",
            "Dependents: 2\n",
            "tenure: 73\n",
            "PhoneService: 2\n",
            "MultipleLines: 2\n",
            "InternetService: 3\n",
            "OnlineSecurity: 2\n",
            "OnlineBackup: 2\n",
            "DeviceProtection: 2\n",
            "TechSupport: 2\n",
            "StreamingTV: 2\n",
            "StreamingMovies: 2\n",
            "Contract: 3\n",
            "PaperlessBilling: 2\n",
            "PaymentMethod: 4\n",
            "MonthlyCharges: 1585\n",
            "TotalCharges: 6531\n",
            "Churn: 2\n"
          ],
          "name": "stdout"
        }
      ]
    },
    {
      "cell_type": "markdown",
      "metadata": {
        "id": "DyUfaEtQcgOf",
        "colab_type": "text"
      },
      "source": [
        "Agora, as únicas colunas categóricas não-binárias são `InternetService`, `Contract` e `PaymentMethod`.\n",
        "\n",
        "Para facilitar a visualização quando construirmos nossos gráficos para verificar as distribuições de cada variável, iremos trocar as entradas da variável `SeniorCitizen` de 0 e 1 para *No* e *Yes*. Ademais, vamos fazer o processo inverso com a coluna `Churn`, tornando possível calcular a taxa de *churn* para as diferentes categorias das outras variáveis. Por último, vamos retirar o *(automatic)* das entradas da coluna `PaymentMethod` e deletar a coluna `CostumerID` que não nos terá mais serventia daqui por diante."
      ]
    },
    {
      "cell_type": "code",
      "metadata": {
        "id": "Ua8pqVUDVkkc",
        "colab_type": "code",
        "colab": {
          "base_uri": "https://localhost:8080/",
          "height": 34
        },
        "outputId": "caa60570-349b-499b-b617-2525cdd771da"
      },
      "source": [
        "# alterando as entradas da coluna `SeniorCitizen`\n",
        "sc_replace = {0: 'No', 1: 'Yes'}\n",
        "df_clean['SeniorCitizen'].replace(sc_replace, inplace=True)\n",
        "\n",
        "df_clean['SeniorCitizen'].unique()"
      ],
      "execution_count": 11,
      "outputs": [
        {
          "output_type": "execute_result",
          "data": {
            "text/plain": [
              "array(['No', 'Yes'], dtype=object)"
            ]
          },
          "metadata": {
            "tags": []
          },
          "execution_count": 11
        }
      ]
    },
    {
      "cell_type": "code",
      "metadata": {
        "id": "XVo4hcWm3O4O",
        "colab_type": "code",
        "colab": {
          "base_uri": "https://localhost:8080/",
          "height": 34
        },
        "outputId": "cf9485b8-3efb-4fc9-a9d3-c75ba2a4569a"
      },
      "source": [
        "# alterando as entradas da coluna Churn\n",
        "churn_replace = {'No': 0, 'Yes': 1}\n",
        "df_clean['Churn'].replace(churn_replace, inplace=True)\n",
        "\n",
        "df_clean['Churn'].unique()"
      ],
      "execution_count": 12,
      "outputs": [
        {
          "output_type": "execute_result",
          "data": {
            "text/plain": [
              "array([0, 1])"
            ]
          },
          "metadata": {
            "tags": []
          },
          "execution_count": 12
        }
      ]
    },
    {
      "cell_type": "code",
      "metadata": {
        "id": "MdlhOw-Bl50Z",
        "colab_type": "code",
        "colab": {
          "base_uri": "https://localhost:8080/",
          "height": 50
        },
        "outputId": "32ca1c9b-3251-491f-8f25-e6f39c84a2ae"
      },
      "source": [
        "# excluindo a coluna costumerID\n",
        "df_clean.drop('customerID', axis=1, inplace=True)\n",
        "\n",
        "# alterando as entradas da coluna PaymentMethod\n",
        "df_clean['PaymentMethod'].replace('Bank transfer (automatic)', 'Bank transfer', inplace=True)\n",
        "df_clean['PaymentMethod'].replace('Credit card (automatic)', 'Credit Card', inplace=True)\n",
        "\n",
        "df_clean['PaymentMethod'].unique()"
      ],
      "execution_count": 13,
      "outputs": [
        {
          "output_type": "execute_result",
          "data": {
            "text/plain": [
              "array(['Electronic check', 'Mailed check', 'Bank transfer', 'Credit Card'],\n",
              "      dtype=object)"
            ]
          },
          "metadata": {
            "tags": []
          },
          "execution_count": 13
        }
      ]
    },
    {
      "cell_type": "markdown",
      "metadata": {
        "id": "nV4RC7q2iCIB",
        "colab_type": "text"
      },
      "source": [
        "Agora que ajustamos os valores de nossas entradas, podemos verificar qual foi a taxa de churn da empresa de nosso dataset."
      ]
    },
    {
      "cell_type": "code",
      "metadata": {
        "id": "a5vY_jhQRKWe",
        "colab_type": "code",
        "colab": {
          "base_uri": "https://localhost:8080/",
          "height": 34
        },
        "outputId": "95bebff7-9c45-41f7-9872-cb0e05f02c30"
      },
      "source": [
        "# verificando a taxa de churn no dataset\n",
        "churn_yes = df_clean[df_clean['Churn'] == 1].shape[0]\n",
        "\n",
        "print(f'Taxa de Churn: {round(churn_yes / df_clean.shape[0], 2)}')"
      ],
      "execution_count": 14,
      "outputs": [
        {
          "output_type": "stream",
          "text": [
            "Taxa de Churn: 0.27\n"
          ],
          "name": "stdout"
        }
      ]
    },
    {
      "cell_type": "markdown",
      "metadata": {
        "id": "dX5rbKu4iPw1",
        "colab_type": "text"
      },
      "source": [
        "De todos os clientes, 27% encerraram seus contratos após começar a utilizar os serviços da empresa.\n",
        "\n",
        "Utilizando o método `describe()`, construiremos um resumo estatístico de nossas variáveis numéricas."
      ]
    },
    {
      "cell_type": "code",
      "metadata": {
        "id": "rpk8yUb0Q2LS",
        "colab_type": "code",
        "colab": {
          "base_uri": "https://localhost:8080/",
          "height": 284
        },
        "outputId": "8e1d9ae2-1f1d-4d3f-880e-176bd6d7c098"
      },
      "source": [
        "df_clean.drop('Churn', axis=1).describe().round(2)"
      ],
      "execution_count": 15,
      "outputs": [
        {
          "output_type": "execute_result",
          "data": {
            "text/html": [
              "<div>\n",
              "<style scoped>\n",
              "    .dataframe tbody tr th:only-of-type {\n",
              "        vertical-align: middle;\n",
              "    }\n",
              "\n",
              "    .dataframe tbody tr th {\n",
              "        vertical-align: top;\n",
              "    }\n",
              "\n",
              "    .dataframe thead th {\n",
              "        text-align: right;\n",
              "    }\n",
              "</style>\n",
              "<table border=\"1\" class=\"dataframe\">\n",
              "  <thead>\n",
              "    <tr style=\"text-align: right;\">\n",
              "      <th></th>\n",
              "      <th>tenure</th>\n",
              "      <th>MonthlyCharges</th>\n",
              "      <th>TotalCharges</th>\n",
              "    </tr>\n",
              "  </thead>\n",
              "  <tbody>\n",
              "    <tr>\n",
              "      <th>count</th>\n",
              "      <td>7043.00</td>\n",
              "      <td>7043.00</td>\n",
              "      <td>7043.00</td>\n",
              "    </tr>\n",
              "    <tr>\n",
              "      <th>mean</th>\n",
              "      <td>32.37</td>\n",
              "      <td>64.76</td>\n",
              "      <td>2281.92</td>\n",
              "    </tr>\n",
              "    <tr>\n",
              "      <th>std</th>\n",
              "      <td>24.56</td>\n",
              "      <td>30.09</td>\n",
              "      <td>2265.27</td>\n",
              "    </tr>\n",
              "    <tr>\n",
              "      <th>min</th>\n",
              "      <td>0.00</td>\n",
              "      <td>18.25</td>\n",
              "      <td>18.80</td>\n",
              "    </tr>\n",
              "    <tr>\n",
              "      <th>25%</th>\n",
              "      <td>9.00</td>\n",
              "      <td>35.50</td>\n",
              "      <td>402.22</td>\n",
              "    </tr>\n",
              "    <tr>\n",
              "      <th>50%</th>\n",
              "      <td>29.00</td>\n",
              "      <td>70.35</td>\n",
              "      <td>1397.48</td>\n",
              "    </tr>\n",
              "    <tr>\n",
              "      <th>75%</th>\n",
              "      <td>55.00</td>\n",
              "      <td>89.85</td>\n",
              "      <td>3786.60</td>\n",
              "    </tr>\n",
              "    <tr>\n",
              "      <th>max</th>\n",
              "      <td>72.00</td>\n",
              "      <td>118.75</td>\n",
              "      <td>8684.80</td>\n",
              "    </tr>\n",
              "  </tbody>\n",
              "</table>\n",
              "</div>"
            ],
            "text/plain": [
              "        tenure  MonthlyCharges  TotalCharges\n",
              "count  7043.00         7043.00       7043.00\n",
              "mean     32.37           64.76       2281.92\n",
              "std      24.56           30.09       2265.27\n",
              "min       0.00           18.25         18.80\n",
              "25%       9.00           35.50        402.22\n",
              "50%      29.00           70.35       1397.48\n",
              "75%      55.00           89.85       3786.60\n",
              "max      72.00          118.75       8684.80"
            ]
          },
          "metadata": {
            "tags": []
          },
          "execution_count": 15
        }
      ]
    },
    {
      "cell_type": "markdown",
      "metadata": {
        "id": "eMlOtgnynG6s",
        "colab_type": "text"
      },
      "source": [
        "Através do resumo estatístico acima, percebe-se que nenhuma de nossas variáveis numéricas apresenta valores muito discrepantes de minímo e máximo, não indicando presença de possíveis *outliers*. Para ter certeza, vamos construir *boxplots* para as mesmas."
      ]
    },
    {
      "cell_type": "code",
      "metadata": {
        "id": "quT6s21s3eka",
        "colab_type": "code",
        "colab": {
          "base_uri": "https://localhost:8080/",
          "height": 657
        },
        "outputId": "16940a63-3a32-43c4-869a-904b70a40007"
      },
      "source": [
        "# criando a figura e os axes para nossos boxplots\n",
        "fig, (ax1, ax2, ax3) = plt.subplots(nrows=3, ncols=1, figsize=(6, 9))\n",
        "\n",
        "# boxplot da coluna tenure\n",
        "ax1.boxplot(df_clean['tenure'], vert=False)\n",
        "ax1.set_title('tenure')\n",
        "ax1.set_yticklabels([])\n",
        "\n",
        "# boxplot da coluna MonthlyCharges\n",
        "ax2.boxplot(df_clean['MonthlyCharges'], vert=False)\n",
        "ax2.set_title('MonthlyCharges')\n",
        "ax2.set_yticklabels([])\n",
        "\n",
        "# boxplot da coluna TotalCharges\n",
        "ax3.boxplot(df_clean['TotalCharges'], vert=False)\n",
        "ax3.set_title('TotalCharges')\n",
        "ax3.set_yticklabels([])\n",
        "\n",
        "plt.tight_layout()"
      ],
      "execution_count": 40,
      "outputs": [
        {
          "output_type": "display_data",
          "data": {
            "image/png": "[encoded data removed]",
            "text/plain": [
              "<Figure size 432x648 with 3 Axes>"
            ]
          },
          "metadata": {
            "tags": []
          }
        }
      ]
    },
    {
      "cell_type": "markdown",
      "metadata": {
        "id": "6X8Y1Llc7arf",
        "colab_type": "text"
      },
      "source": [
        "Podemos confirmar então que não há outliers em nossas variáveis numéricas, visto que não há pontos fora dos quartis em todas elas.\n",
        "\n",
        "Agora, vamos analisar a distribuição das classes de nossas variáveis categóricas, com exceção de `Churn` que será analisada mais a frente."
      ]
    },
    {
      "cell_type": "code",
      "metadata": {
        "id": "c6c4gvAoazri",
        "colab_type": "code",
        "colab": {
          "base_uri": "https://localhost:8080/",
          "height": 486
        },
        "outputId": "31f8a390-89d1-4dfb-a092-c1f9af4c8845"
      },
      "source": [
        "# criando uma lista com as colunas categóricas binárias\n",
        "categorical = []\n",
        "\n",
        "for col in df_clean.columns:\n",
        "  if df_clean[col].nunique() < 5 and col != 'Churn':\n",
        "    categorical.append(col)\n",
        "\n",
        "# criando um gráfico com suas distribuições\n",
        "fig, ax = plt.subplots(nrows=4, ncols=4, figsize=(22,16))\n",
        "i = 0\n",
        "\n",
        "for col in categorical:\n",
        "  i += 1\n",
        "  plt.subplot(4, 4, i)\n",
        "  g = sns.countplot(df_clean[col], palette='GnBu_d')\n",
        "  plt.xlabel('')\n",
        "  plt.xticks([])\n",
        "  plt.ylabel('')\n",
        "  plt.gca().yaxis.set_major_formatter(StrMethodFormatter('{x:,.0f}'))\n",
        "  plt.title(col)\n",
        "\n",
        "  for p, q in zip(g.patches, df_clean[col].unique()):\n",
        "        g.annotate(f'{q}', (p.get_x()+0.4, 1.015*p.get_height()), ha='center',\n",
        "                   va='bottom', color='black', fontsize=11)  \n",
        "\n",
        "plt.tight_layout()"
      ],
      "execution_count": 16,
      "outputs": [
        {
          "output_type": "display_data",
          "data": {
            "image/png": "[encoded data removed]",
            "text/plain": [
              "<Figure size 1584x1152 with 16 Axes>"
            ]
          },
          "metadata": {
            "tags": []
          }
        }
      ]
    },
    {
      "cell_type": "markdown",
      "metadata": {
        "id": "_EA1nMRdo7IX",
        "colab_type": "text"
      },
      "source": [
        "É relativamente comum termos desbalanceamentos relacionados ao sexo que podem causar vieses em modelos preditivos. No entanto, não é o caso de nosso dataset, onde a coluna `gender` está balanceada. Outras colunas como `PhoneService` e `SeniorCitizen`, por outro lado, apresentam um alto desbalanceamento.\n",
        "\n",
        "É importante verificarmos como nossas variáveis se relacionam com a nossa variável alvo, pois as que apresentarem taxas de *churn* muito próximas para diferentes categorias não serão relevantes para nossos modelos e os tornarão mais pesados."
      ]
    },
    {
      "cell_type": "code",
      "metadata": {
        "id": "NwkwCHOj4JPE",
        "colab_type": "code",
        "colab": {
          "base_uri": "https://localhost:8080/",
          "height": 486
        },
        "outputId": "9bb41e61-0a24-4782-f831-3131a80e1cee"
      },
      "source": [
        "# criando um gráfico com suas distribuições\n",
        "fig, ax = plt.subplots(nrows=4, ncols=4, figsize=(22,16))\n",
        "i = 0\n",
        "\n",
        "for col in categorical:\n",
        "  i += 1\n",
        "  plt.subplot(4, 4, i)\n",
        "  ax1 = plt.gca()\n",
        "  plot = df_clean[[col, 'Churn']].groupby([col], as_index=False).mean()\n",
        "  g = ax1.bar(col, 'Churn', data=plot, color=sns.color_palette('GnBu_d'))\n",
        "  plt.xlabel('')\n",
        "  plt.xticks([])\n",
        "  plt.title(col)\n",
        "    \n",
        "  for p, q in zip(g.patches, df_clean[col].unique()):\n",
        "      ax1.annotate(f'{q}', (p.get_x()+0.4, 1.010*p.get_height()), ha='center',\n",
        "                   va='bottom', color='black', fontsize=11)   \n",
        "\n",
        "plt.tight_layout()"
      ],
      "execution_count": 17,
      "outputs": [
        {
          "output_type": "display_data",
          "data": {
            "image/png": "[encoded data removed]",
            "text/plain": [
              "<Figure size 1584x1152 with 16 Axes>"
            ]
          },
          "metadata": {
            "tags": []
          }
        }
      ]
    },
    {
      "cell_type": "markdown",
      "metadata": {
        "id": "OLZ5GeU7y9-X",
        "colab_type": "text"
      },
      "source": [
        "Podemos tirar algumas informações valiosas do gráfico acima:\n",
        "* Clientes casados e sem dependentes tem uma tendência maior a realizar *churn*;\n",
        "\n",
        "* Clientes que não aderem a outros serviços como suporte técnico, backup e segurança online e proteção de dispositivos, também apresentam maior tendência a sair da empresa. Visto que esses clientes são minoria em relação aos que não assinam, talvez seja interessante investir em campanhas que aumentem a taxa de adesão a eles;\n",
        "\n",
        "* Apesar de não apresentar uma diferença tão grande, os clientes que assinam serviços de *streaming* tanto de filme quanto de TV apresentam uma maior taxa de *churn*, isso pode indicar que esses serviços podem estar causando incômodos aos clientes e devem ser melhorados;\n",
        "\n",
        "* Outro ponto de atenção é que a maior parte dos clientes realizam pagamentos sem uso de contas em papel e os mesmos também apresentam maior propensão a cancelar os serviços da empresa. Isso se dá pela maior facilidade de quem usa mais frequentemente meios eletrônicos em cancelar os serviços de forma online? Ou será que há problemas no envio e confirmação de pagamentos feitos de maneira eletrônica?\n",
        "\n",
        "* Podendo estar relacionado ao tópico anterior, clientes que realizam transferência bancária possuem muito mais tendência a deixar a companhia do que clientes que usam outros meios de pagamento;\n",
        "\n",
        "* Como esperado, quanto maior o tempo de contrato, menor a taxa de *churn*. Campanhas que estimulem adesão a contratos de longo prazo podem ajudar a diminuir a taxa de *churn*;\n",
        "\n",
        "* Clientes que possuem internet da companhia com fibra ótica deixam a empresa numa taxa muito maior do que os que não têm internet ou que a internet é com DSL. Possivelmente a qualidade do serviço de internet com a fibra ótica está deixando a desejar e está fazendo os clientes migrarem para concorrentes. Isso é prepocupante, pois a maioria dos clientes possui fibra ótica e também pode estar ligado à qualidade do *streaming*;\n",
        "\n",
        "* A variável relacionada a sexo não nos dá nenhuma informação a respeito da taxa de churn e pode ser excluída de nosso dataset.\n",
        "\n",
        "Vamos verificar o preço médio para as diferentes categorias da coluna de `InternetService`.\n"
      ]
    },
    {
      "cell_type": "code",
      "metadata": {
        "id": "p6McUmE_0IvW",
        "colab_type": "code",
        "colab": {
          "base_uri": "https://localhost:8080/",
          "height": 166
        },
        "outputId": "da3549cd-95da-4996-a7a9-bcda531a8d56"
      },
      "source": [
        "# verificando o preço médio por tipo de serviço de internet\n",
        "df_clean[['InternetService', 'MonthlyCharges']].groupby('InternetService').mean().round(2)"
      ],
      "execution_count": 18,
      "outputs": [
        {
          "output_type": "execute_result",
          "data": {
            "text/html": [
              "<div>\n",
              "<style scoped>\n",
              "    .dataframe tbody tr th:only-of-type {\n",
              "        vertical-align: middle;\n",
              "    }\n",
              "\n",
              "    .dataframe tbody tr th {\n",
              "        vertical-align: top;\n",
              "    }\n",
              "\n",
              "    .dataframe thead th {\n",
              "        text-align: right;\n",
              "    }\n",
              "</style>\n",
              "<table border=\"1\" class=\"dataframe\">\n",
              "  <thead>\n",
              "    <tr style=\"text-align: right;\">\n",
              "      <th></th>\n",
              "      <th>MonthlyCharges</th>\n",
              "    </tr>\n",
              "    <tr>\n",
              "      <th>InternetService</th>\n",
              "      <th></th>\n",
              "    </tr>\n",
              "  </thead>\n",
              "  <tbody>\n",
              "    <tr>\n",
              "      <th>DSL</th>\n",
              "      <td>58.10</td>\n",
              "    </tr>\n",
              "    <tr>\n",
              "      <th>Fiber optic</th>\n",
              "      <td>91.50</td>\n",
              "    </tr>\n",
              "    <tr>\n",
              "      <th>No</th>\n",
              "      <td>21.08</td>\n",
              "    </tr>\n",
              "  </tbody>\n",
              "</table>\n",
              "</div>"
            ],
            "text/plain": [
              "                 MonthlyCharges\n",
              "InternetService                \n",
              "DSL                       58.10\n",
              "Fiber optic               91.50\n",
              "No                        21.08"
            ]
          },
          "metadata": {
            "tags": []
          },
          "execution_count": 18
        }
      ]
    },
    {
      "cell_type": "markdown",
      "metadata": {
        "id": "kLEok4FpCOJA",
        "colab_type": "text"
      },
      "source": [
        "Os clientes que assinam internet com fibra ótica pagam bem mais caro do que os que utilizam DSL. Esse também pode ser um motivo para a maior taxa de *churn* para clientes com fibra ótica, talvez até o principal deles. Planos promocionais para essa categoria podem ser interessantes para maior retenção de clientes."
      ]
    },
    {
      "cell_type": "code",
      "metadata": {
        "id": "qjyhlhdcESH1",
        "colab_type": "code",
        "colab": {
          "base_uri": "https://localhost:8080/",
          "height": 136
        },
        "outputId": "a5fee4a8-f97f-44ae-c7e6-48b9d248ebe9"
      },
      "source": [
        "# verificando tempo médio de permanência e cobranças mensais\n",
        "df_clean[['Churn', 'tenure', 'MonthlyCharges']].groupby('Churn').mean().round(2)"
      ],
      "execution_count": 19,
      "outputs": [
        {
          "output_type": "execute_result",
          "data": {
            "text/html": [
              "<div>\n",
              "<style scoped>\n",
              "    .dataframe tbody tr th:only-of-type {\n",
              "        vertical-align: middle;\n",
              "    }\n",
              "\n",
              "    .dataframe tbody tr th {\n",
              "        vertical-align: top;\n",
              "    }\n",
              "\n",
              "    .dataframe thead th {\n",
              "        text-align: right;\n",
              "    }\n",
              "</style>\n",
              "<table border=\"1\" class=\"dataframe\">\n",
              "  <thead>\n",
              "    <tr style=\"text-align: right;\">\n",
              "      <th></th>\n",
              "      <th>tenure</th>\n",
              "      <th>MonthlyCharges</th>\n",
              "    </tr>\n",
              "    <tr>\n",
              "      <th>Churn</th>\n",
              "      <th></th>\n",
              "      <th></th>\n",
              "    </tr>\n",
              "  </thead>\n",
              "  <tbody>\n",
              "    <tr>\n",
              "      <th>0</th>\n",
              "      <td>37.57</td>\n",
              "      <td>61.27</td>\n",
              "    </tr>\n",
              "    <tr>\n",
              "      <th>1</th>\n",
              "      <td>17.98</td>\n",
              "      <td>74.44</td>\n",
              "    </tr>\n",
              "  </tbody>\n",
              "</table>\n",
              "</div>"
            ],
            "text/plain": [
              "       tenure  MonthlyCharges\n",
              "Churn                        \n",
              "0       37.57           61.27\n",
              "1       17.98           74.44"
            ]
          },
          "metadata": {
            "tags": []
          },
          "execution_count": 19
        }
      ]
    },
    {
      "cell_type": "markdown",
      "metadata": {
        "id": "hQZAqL_2ns5r",
        "colab_type": "text"
      },
      "source": [
        "Podemos ver que o tempo médio de permanência na empresa dos clientes que cancelaram seus serviços é de aproximadamente 18 meses. Além disso, outro dado interessante é que os clientes que realizaram *churn* são os que pagavam por serviços mais caros. Provavelmente para esses clientes, o custo benefício dos serviços da empresa não eram adequados, algo que poderia ser interessante de ser investigado mais a fundo."
      ]
    },
    {
      "cell_type": "markdown",
      "metadata": {
        "id": "65UZREkUMsQ8",
        "colab_type": "text"
      },
      "source": [
        "## Preparação dos Dados\n",
        "\n",
        "Antes de iniciarmos a criação de nossos modelos para comparação, é de extrema importância deletarmos as colunas desnecessárias como `gender` e `MultipleLines` e realizar *Encoding* com as colunas categóricas.\n",
        "\n",
        "O *Label Encoder* atribui um valor numérico para cada categoria da coluna especificada. Já a função `get_dummies` do Pandas cria uma coluna para cada categoria da coluna especificada e atribui o valor 1 para as entradas correspondentes àquela categoria e 0 para as outras.\n",
        "\n",
        "Em geral, em colunas binárias utilizamos o *Label Encoder*. Porém, para colunas com múltiplas categorias, esse método pode passar uma hierarquia inexistente para os modelos de *machine learning*. Por exemplo, em uma coluna com 6 categorias diferentes podem ser atribuídos valores de 0 a 5 e o modelo dar maior importância à categoria 5 por ser um número maior. Para evitar erros desse tipo, utilizaremos o `get_dummies` para as colunas com mais de 2 categorias."
      ]
    },
    {
      "cell_type": "code",
      "metadata": {
        "id": "Y8Jtq4ZrNlL8",
        "colab_type": "code",
        "colab": {
          "base_uri": "https://localhost:8080/",
          "height": 232
        },
        "outputId": "1c44fcd2-c94d-4615-bfc8-0eca1418482e"
      },
      "source": [
        "# criando uma cópia e deletando as colunas gender e MultipleLines\n",
        "df_proc = df_clean.copy()\n",
        "df_proc.drop(['gender', 'MultipleLines'], axis=1, inplace=True)\n",
        "\n",
        "# separando as colunas por binárias, numéricas e categóricas\n",
        "binary = [col for col in df_proc.columns if df_proc[col].nunique() == 2]\n",
        "numerical = [col for col in df_proc.select_dtypes(['int', 'float']).columns if col not in binary]\n",
        "categorical = [col for col in df_proc.columns if col not in binary + numerical]\n",
        "\n",
        "# LabelEncoder para as colunas binárias\n",
        "le = LabelEncoder()\n",
        "\n",
        "for col in binary:\n",
        "  df_proc[col] = le.fit_transform(df_proc[col])\n",
        "\n",
        "# get_dummies para as outras colunas categóricas\n",
        "df_proc = pd.get_dummies(df_proc, columns=categorical)\n",
        "\n",
        "df_proc.head()"
      ],
      "execution_count": 20,
      "outputs": [
        {
          "output_type": "execute_result",
          "data": {
            "text/html": [
              "<div>\n",
              "<style scoped>\n",
              "    .dataframe tbody tr th:only-of-type {\n",
              "        vertical-align: middle;\n",
              "    }\n",
              "\n",
              "    .dataframe tbody tr th {\n",
              "        vertical-align: top;\n",
              "    }\n",
              "\n",
              "    .dataframe thead th {\n",
              "        text-align: right;\n",
              "    }\n",
              "</style>\n",
              "<table border=\"1\" class=\"dataframe\">\n",
              "  <thead>\n",
              "    <tr style=\"text-align: right;\">\n",
              "      <th></th>\n",
              "      <th>SeniorCitizen</th>\n",
              "      <th>Partner</th>\n",
              "      <th>Dependents</th>\n",
              "      <th>tenure</th>\n",
              "      <th>PhoneService</th>\n",
              "      <th>OnlineSecurity</th>\n",
              "      <th>OnlineBackup</th>\n",
              "      <th>DeviceProtection</th>\n",
              "      <th>TechSupport</th>\n",
              "      <th>StreamingTV</th>\n",
              "      <th>StreamingMovies</th>\n",
              "      <th>PaperlessBilling</th>\n",
              "      <th>MonthlyCharges</th>\n",
              "      <th>TotalCharges</th>\n",
              "      <th>Churn</th>\n",
              "      <th>InternetService_DSL</th>\n",
              "      <th>InternetService_Fiber optic</th>\n",
              "      <th>InternetService_No</th>\n",
              "      <th>Contract_Month-to-month</th>\n",
              "      <th>Contract_One year</th>\n",
              "      <th>Contract_Two year</th>\n",
              "      <th>PaymentMethod_Bank transfer</th>\n",
              "      <th>PaymentMethod_Credit Card</th>\n",
              "      <th>PaymentMethod_Electronic check</th>\n",
              "      <th>PaymentMethod_Mailed check</th>\n",
              "    </tr>\n",
              "  </thead>\n",
              "  <tbody>\n",
              "    <tr>\n",
              "      <th>0</th>\n",
              "      <td>0</td>\n",
              "      <td>1</td>\n",
              "      <td>0</td>\n",
              "      <td>1</td>\n",
              "      <td>0</td>\n",
              "      <td>0</td>\n",
              "      <td>1</td>\n",
              "      <td>0</td>\n",
              "      <td>0</td>\n",
              "      <td>0</td>\n",
              "      <td>0</td>\n",
              "      <td>1</td>\n",
              "      <td>29.85</td>\n",
              "      <td>29.85</td>\n",
              "      <td>0</td>\n",
              "      <td>1</td>\n",
              "      <td>0</td>\n",
              "      <td>0</td>\n",
              "      <td>1</td>\n",
              "      <td>0</td>\n",
              "      <td>0</td>\n",
              "      <td>0</td>\n",
              "      <td>0</td>\n",
              "      <td>1</td>\n",
              "      <td>0</td>\n",
              "    </tr>\n",
              "    <tr>\n",
              "      <th>1</th>\n",
              "      <td>0</td>\n",
              "      <td>0</td>\n",
              "      <td>0</td>\n",
              "      <td>34</td>\n",
              "      <td>1</td>\n",
              "      <td>1</td>\n",
              "      <td>0</td>\n",
              "      <td>1</td>\n",
              "      <td>0</td>\n",
              "      <td>0</td>\n",
              "      <td>0</td>\n",
              "      <td>0</td>\n",
              "      <td>56.95</td>\n",
              "      <td>1889.50</td>\n",
              "      <td>0</td>\n",
              "      <td>1</td>\n",
              "      <td>0</td>\n",
              "      <td>0</td>\n",
              "      <td>0</td>\n",
              "      <td>1</td>\n",
              "      <td>0</td>\n",
              "      <td>0</td>\n",
              "      <td>0</td>\n",
              "      <td>0</td>\n",
              "      <td>1</td>\n",
              "    </tr>\n",
              "    <tr>\n",
              "      <th>2</th>\n",
              "      <td>0</td>\n",
              "      <td>0</td>\n",
              "      <td>0</td>\n",
              "      <td>2</td>\n",
              "      <td>1</td>\n",
              "      <td>1</td>\n",
              "      <td>1</td>\n",
              "      <td>0</td>\n",
              "      <td>0</td>\n",
              "      <td>0</td>\n",
              "      <td>0</td>\n",
              "      <td>1</td>\n",
              "      <td>53.85</td>\n",
              "      <td>108.15</td>\n",
              "      <td>1</td>\n",
              "      <td>1</td>\n",
              "      <td>0</td>\n",
              "      <td>0</td>\n",
              "      <td>1</td>\n",
              "      <td>0</td>\n",
              "      <td>0</td>\n",
              "      <td>0</td>\n",
              "      <td>0</td>\n",
              "      <td>0</td>\n",
              "      <td>1</td>\n",
              "    </tr>\n",
              "    <tr>\n",
              "      <th>3</th>\n",
              "      <td>0</td>\n",
              "      <td>0</td>\n",
              "      <td>0</td>\n",
              "      <td>45</td>\n",
              "      <td>0</td>\n",
              "      <td>1</td>\n",
              "      <td>0</td>\n",
              "      <td>1</td>\n",
              "      <td>1</td>\n",
              "      <td>0</td>\n",
              "      <td>0</td>\n",
              "      <td>0</td>\n",
              "      <td>42.30</td>\n",
              "      <td>1840.75</td>\n",
              "      <td>0</td>\n",
              "      <td>1</td>\n",
              "      <td>0</td>\n",
              "      <td>0</td>\n",
              "      <td>0</td>\n",
              "      <td>1</td>\n",
              "      <td>0</td>\n",
              "      <td>1</td>\n",
              "      <td>0</td>\n",
              "      <td>0</td>\n",
              "      <td>0</td>\n",
              "    </tr>\n",
              "    <tr>\n",
              "      <th>4</th>\n",
              "      <td>0</td>\n",
              "      <td>0</td>\n",
              "      <td>0</td>\n",
              "      <td>2</td>\n",
              "      <td>1</td>\n",
              "      <td>0</td>\n",
              "      <td>0</td>\n",
              "      <td>0</td>\n",
              "      <td>0</td>\n",
              "      <td>0</td>\n",
              "      <td>0</td>\n",
              "      <td>1</td>\n",
              "      <td>70.70</td>\n",
              "      <td>151.65</td>\n",
              "      <td>1</td>\n",
              "      <td>0</td>\n",
              "      <td>1</td>\n",
              "      <td>0</td>\n",
              "      <td>1</td>\n",
              "      <td>0</td>\n",
              "      <td>0</td>\n",
              "      <td>0</td>\n",
              "      <td>0</td>\n",
              "      <td>1</td>\n",
              "      <td>0</td>\n",
              "    </tr>\n",
              "  </tbody>\n",
              "</table>\n",
              "</div>"
            ],
            "text/plain": [
              "   SeniorCitizen  ...  PaymentMethod_Mailed check\n",
              "0              0  ...                           0\n",
              "1              0  ...                           1\n",
              "2              0  ...                           1\n",
              "3              0  ...                           0\n",
              "4              0  ...                           0\n",
              "\n",
              "[5 rows x 25 columns]"
            ]
          },
          "metadata": {
            "tags": []
          },
          "execution_count": 20
        }
      ]
    },
    {
      "cell_type": "markdown",
      "metadata": {
        "id": "sUs0kH1fJbI1",
        "colab_type": "text"
      },
      "source": [
        "Pronto! Agora que nossas variáveis já foram preparadas, vamos dividir nosso *dataset* em treino e teste."
      ]
    },
    {
      "cell_type": "code",
      "metadata": {
        "id": "WzAmyAl82O9G",
        "colab_type": "code",
        "colab": {}
      },
      "source": [
        "# separando a variável alvo das demais\n",
        "X = df_proc.drop('Churn', axis=1)\n",
        "y = df_proc['Churn']\n",
        "\n",
        "# dividindo o dataset entre treino e teste\n",
        "X_train, X_test, y_train, y_test = train_test_split(X, y)"
      ],
      "execution_count": 21,
      "outputs": []
    },
    {
      "cell_type": "markdown",
      "metadata": {
        "id": "uS0HnEXSJygZ",
        "colab_type": "text"
      },
      "source": [
        "Vamos verificar agora se nossa variável alvo está balanceada ou se será necessário utilizar técnicas para balanceamento das categorias da mesma."
      ]
    },
    {
      "cell_type": "code",
      "metadata": {
        "id": "ysummhfS4WMT",
        "colab_type": "code",
        "colab": {
          "base_uri": "https://localhost:8080/",
          "height": 330
        },
        "outputId": "ad4ff27a-60e8-4be4-9caa-21855920aae8"
      },
      "source": [
        "print(df_proc['Churn'].value_counts())\n",
        "\n",
        "sns.countplot(df_proc['Churn'], palette='GnBu_d')\n",
        "\n",
        "plt.show()"
      ],
      "execution_count": 46,
      "outputs": [
        {
          "output_type": "stream",
          "text": [
            "0    5174\n",
            "1    1869\n",
            "Name: Churn, dtype: int64\n"
          ],
          "name": "stdout"
        },
        {
          "output_type": "display_data",
          "data": {
            "image/png": "[encoded data removed]",
            "text/plain": [
              "<Figure size 432x288 with 1 Axes>"
            ]
          },
          "metadata": {
            "tags": []
          }
        }
      ]
    },
    {
      "cell_type": "markdown",
      "metadata": {
        "id": "VXWZQZ5fKShU",
        "colab_type": "text"
      },
      "source": [
        "Podemos verificar que nossas classes estão desbalanceadas, sendo assim, mais a frente iremos utilizar técnicas para lidar com este problema e não gerar viés em nossos modelos."
      ]
    },
    {
      "cell_type": "markdown",
      "metadata": {
        "id": "tfoE6317yLA1",
        "colab_type": "text"
      },
      "source": [
        "## Construção dos Modelos"
      ]
    },
    {
      "cell_type": "markdown",
      "metadata": {
        "id": "kTdRusK7Lbfe",
        "colab_type": "text"
      },
      "source": [
        "O primeiro passo para criação e avaliação de nossos modelos é definir quais as métricas de avaliação mais importantes. Para saber mais sobre as métricas de avaliação de modelos de classificação, [acesse este meu artigo no Medium](https://medium.com/@beniciowg/detec%C3%A7%C3%A3o-de-fraudes-em-cart%C3%B5es-de-cr%C3%A9dito-a-import%C3%A2ncia-das-m%C3%A9tricas-de-avalia%C3%A7%C3%A3o-71ed59f35293). \n",
        "\n",
        "Neste caso em específico estamos interessados em prever se um cliente deixará a empresa ou não. Caso um cliente que não deixaria a empresa for classificado como um *churn* em potencial quais seriam os prejuízos? A empresa somente buscaria estudar mais a fundo as atividades desse cliente? Apresentaria promoções ou daria bônus? \n",
        "\n",
        "Enfim, para este projeto assumiremos que a métrica principal para avaliação dos modelos é *Recall*, pois queremos detectar a maior quantidade de clientes possíveis com potencial de deixar a empresa.\n",
        "\n",
        "Começaremos criando uma função que padroniza nossos dados e retorna o valor obtido para *Recall* após utilizar *cross-validation*."
      ]
    },
    {
      "cell_type": "code",
      "metadata": {
        "id": "YcvvTsHGPOhV",
        "colab_type": "code",
        "colab": {}
      },
      "source": [
        "# criando uma função para avaliar nossos modelos com cross-validation\n",
        "def val_model(clf, X, y, print_val=True):\n",
        "  \"\"\"\n",
        "  Cria um pipeline com a aplicação de um padronizador e do classificador e avalia com cross-validation\n",
        "\n",
        "  # Argumentos:\n",
        "    clf: classificador\n",
        "    X: conjunto de variáveis independentes para treino\n",
        "    y: variável dependente para treino\n",
        "    print_val: bool, se True imprime o valor obtido\n",
        "  \n",
        "  # Retorna: \n",
        "    float: média dos scores obtidos no cross-validation\n",
        "  \"\"\"\n",
        "\n",
        "  pipeline = make_pipeline(StandardScaler(), clf)\n",
        "  score = cross_val_score(pipeline, X, y, scoring='recall')\n",
        "\n",
        "  if print_val == True:\n",
        "    print(f'Recall: {round(score.mean(), 2)} +/- {round(score.std(), 2)}')\n",
        "\n",
        "  return score.mean()"
      ],
      "execution_count": 23,
      "outputs": []
    },
    {
      "cell_type": "markdown",
      "metadata": {
        "id": "cqNZ5dLTOm_k",
        "colab_type": "text"
      },
      "source": [
        "### Criando um Modelo de Referência\n",
        "\n",
        "Vamos criar um modelo de referência utilizando o XGBoost, que é considerado estado da arte em muitas aplicações. Este modelo será aplicado em nosso *dataset* sem realizar padronização dos dados, utilizar técnicas de *sampling* ou otimizar parâmetros. Ele será utilizado como uma referência a ser batida pelos outros modelos."
      ]
    },
    {
      "cell_type": "code",
      "metadata": {
        "id": "LnEm2utq2AUb",
        "colab_type": "code",
        "colab": {
          "base_uri": "https://localhost:8080/",
          "height": 34
        },
        "outputId": "045b39ed-7660-4b47-bc31-485652228160"
      },
      "source": [
        "xgb = XGBClassifier()\n",
        "score_baseline = val_model(xgb, X_train, y_train)"
      ],
      "execution_count": 24,
      "outputs": [
        {
          "output_type": "stream",
          "text": [
            "Recall: 0.52 +/- 0.04\n"
          ],
          "name": "stdout"
        }
      ]
    },
    {
      "cell_type": "markdown",
      "metadata": {
        "id": "byItnl11Qaes",
        "colab_type": "text"
      },
      "source": [
        "O valor de *Recall* obtido pelo nosso modelo de referência foi de 0.52, ou seja, com ele 52% dos clientes que realizariam *churn* seriam detectados previamente."
      ]
    },
    {
      "cell_type": "markdown",
      "metadata": {
        "id": "0clm_tphPcGn",
        "colab_type": "text"
      },
      "source": [
        "### Padronização e Balanceamento dos Dados"
      ]
    },
    {
      "cell_type": "markdown",
      "metadata": {
        "id": "zIvjkEd1Sag0",
        "colab_type": "text"
      },
      "source": [
        "O próximo passo é realizar a padronização dos nossos dados de treino, ou seja, deixá-los todos na mesma escala para que não haja nenhum viés em nosso modelo causado por diferenças na escala dos valores de diferentes variáveis. Após a padronização dos dados, iremos aplicar duas técnicas de balanceamento das categorias da variável alvo: *Undersampling* e *SMOTE*.\n",
        "\n",
        "A técnica de *Undersampling* consiste em pegar todas as entradas do conjunto de treino da categoria positiva (clientes que realizaram *churn*) e selecionar aleatoriamente a mesma quantidade de entradas para a classe negativa (clientes que continuam na empresa). A vantagem dessa técnica é que não há alterações na classe positiva e a desvantagem é que se perde muita informação da classe negativa.\n",
        "\n",
        "Já a técnica de *SMOTE* cria novas instâncias da classe minoritária selecionando aleatoriamente uma entrada dessa classe e traçando uma linha até seus *k* vizinhos mais próximos (*k* geralmente é 5). Após encontrar os vizinhos mais próximos, seleciona-se aleatoriamente um deles e cria-se uma nova instância ao longo da linha traçada entre os dois pontos. A vantagem dessa técnica é que não se perde informações da classe majoritária e os exemplos criados são próximos aos já existentes. No entanto, se as ambas as classes forem próximas ele pode criar exemplos ambíguos, ou seja, sobrepor pontos criados para a classe minoritária com pontos da majoritária."
      ]
    },
    {
      "cell_type": "code",
      "metadata": {
        "id": "Nx8N1Y7bEssh",
        "colab_type": "code",
        "colab": {}
      },
      "source": [
        "# padronizando os dados\n",
        "scaler = StandardScaler().fit(X_train)\n",
        "X_train = scaler.transform(X_train)"
      ],
      "execution_count": 25,
      "outputs": []
    },
    {
      "cell_type": "code",
      "metadata": {
        "id": "Vt4HJWYY6ZZx",
        "colab_type": "code",
        "colab": {
          "base_uri": "https://localhost:8080/",
          "height": 672
        },
        "outputId": "202da5c5-e0ed-46d1-9eb6-3ba9603b9b01"
      },
      "source": [
        "# instanciando o Random UnderSampler e ajustando aos nossos dados de treino\n",
        "rus = RandomUnderSampler()\n",
        "X_train_rus, y_train_rus = rus.fit_sample(X_train, y_train)\n",
        "\n",
        "# instanciando o SMOTE e ajustando aos nossos dados de treino\n",
        "oversample = SMOTE()\n",
        "X_train_over, y_train_over = oversample.fit_sample(X_train, y_train)\n",
        "\n",
        "# criando a figura com os countplots\n",
        "fig, (ax1, ax2) = plt.subplots(nrows=2, ncols=1, figsize=(6,8))\n",
        "\n",
        "sns.countplot(y_train_rus, ax=ax1, palette='GnBu_d')\n",
        "ax1.set_title('Random Undersampler')\n",
        "\n",
        "sns.countplot(y_train_over, ax=ax2, palette='GnBu_d')\n",
        "ax2.set_title('SMOTE')\n",
        "\n",
        "plt.tight_layout()"
      ],
      "execution_count": 45,
      "outputs": [
        {
          "output_type": "stream",
          "text": [
            "/usr/local/lib/python3.6/dist-packages/sklearn/utils/deprecation.py:87: FutureWarning: Function safe_indexing is deprecated; safe_indexing is deprecated in version 0.22 and will be removed in version 0.24.\n",
            "  warnings.warn(msg, category=FutureWarning)\n",
            "/usr/local/lib/python3.6/dist-packages/sklearn/utils/deprecation.py:87: FutureWarning: Function safe_indexing is deprecated; safe_indexing is deprecated in version 0.22 and will be removed in version 0.24.\n",
            "  warnings.warn(msg, category=FutureWarning)\n"
          ],
          "name": "stderr"
        },
        {
          "output_type": "display_data",
          "data": {
            "image/png": "[encoded data removed]",
            "text/plain": [
              "<Figure size 432x576 with 2 Axes>"
            ]
          },
          "metadata": {
            "tags": []
          }
        }
      ]
    },
    {
      "cell_type": "markdown",
      "metadata": {
        "id": "MKk9QXwCpTiY",
        "colab_type": "text"
      },
      "source": [
        "Podemos ver que ambas as técnicas balancearam os dados de treino, porém, elas diferem na quantidade de instâncias."
      ]
    },
    {
      "cell_type": "markdown",
      "metadata": {
        "id": "6pRrv7wap0Wr",
        "colab_type": "text"
      },
      "source": [
        "### Comparando Modelos\n",
        "\n",
        "Para obter os melhores resultados possíveis, vamos avaliar o *Recall* para diferentes classificadores com ambas as técnicas de balanceamento. Os classificadores que iremos comparar são o XGBoost (*Extreme Gradient Boosting*), Regressão Logística, SVC (*Support Vector Classifier*), *Random Forest* e LGBM (*Light Gradient Boosting Machine*)."
      ]
    },
    {
      "cell_type": "code",
      "metadata": {
        "id": "0Q6vhsIqJ6rm",
        "colab_type": "code",
        "colab": {}
      },
      "source": [
        "# instanciando os outros classificadores\n",
        "lr = LogisticRegression()\n",
        "svc = SVC()\n",
        "rf = RandomForestClassifier()\n",
        "lgbm = LGBMClassifier()\n",
        "\n",
        "# criando listas de scores e classificadores\n",
        "scores_rus = []\n",
        "scores_over = []\n",
        "models = []\n",
        "\n",
        "# aplicando a função de avaliação que criamos e criando listas com os scores\n",
        "for clf in [lr, svc, rf, lgbm, xgb]:\n",
        "  models.append(clf.__class__.__name__)\n",
        "  scores_rus.append(round(val_model(clf, X_train_rus, y_train_rus, print_val=False), 4))\n",
        "  scores_over.append(round(val_model(clf, X_train_over, y_train_over, print_val=False), 4))"
      ],
      "execution_count": 27,
      "outputs": []
    },
    {
      "cell_type": "code",
      "metadata": {
        "id": "tvUlalZQLlfC",
        "colab_type": "code",
        "colab": {
          "base_uri": "https://localhost:8080/",
          "height": 195
        },
        "outputId": "e601023d-fa17-40ec-83c2-509846995508"
      },
      "source": [
        "# criando uma tabela com os modelos e os scores obtidos\n",
        "pd.DataFrame(data={'Recall RUS': scores_rus,\n",
        "                   'Recall SMOTE:': scores_over}, \n",
        "             index=models)"
      ],
      "execution_count": 28,
      "outputs": [
        {
          "output_type": "execute_result",
          "data": {
            "text/html": [
              "<div>\n",
              "<style scoped>\n",
              "    .dataframe tbody tr th:only-of-type {\n",
              "        vertical-align: middle;\n",
              "    }\n",
              "\n",
              "    .dataframe tbody tr th {\n",
              "        vertical-align: top;\n",
              "    }\n",
              "\n",
              "    .dataframe thead th {\n",
              "        text-align: right;\n",
              "    }\n",
              "</style>\n",
              "<table border=\"1\" class=\"dataframe\">\n",
              "  <thead>\n",
              "    <tr style=\"text-align: right;\">\n",
              "      <th></th>\n",
              "      <th>Recall RUS</th>\n",
              "      <th>Recall SMOTE:</th>\n",
              "    </tr>\n",
              "  </thead>\n",
              "  <tbody>\n",
              "    <tr>\n",
              "      <th>LogisticRegression</th>\n",
              "      <td>0.7936</td>\n",
              "      <td>0.8210</td>\n",
              "    </tr>\n",
              "    <tr>\n",
              "      <th>SVC</th>\n",
              "      <td>0.8057</td>\n",
              "      <td>0.8419</td>\n",
              "    </tr>\n",
              "    <tr>\n",
              "      <th>RandomForestClassifier</th>\n",
              "      <td>0.7823</td>\n",
              "      <td>0.8638</td>\n",
              "    </tr>\n",
              "    <tr>\n",
              "      <th>LGBMClassifier</th>\n",
              "      <td>0.7844</td>\n",
              "      <td>0.8419</td>\n",
              "    </tr>\n",
              "    <tr>\n",
              "      <th>XGBClassifier</th>\n",
              "      <td>0.8064</td>\n",
              "      <td>0.8582</td>\n",
              "    </tr>\n",
              "  </tbody>\n",
              "</table>\n",
              "</div>"
            ],
            "text/plain": [
              "                        Recall RUS  Recall SMOTE:\n",
              "LogisticRegression          0.7936         0.8210\n",
              "SVC                         0.8057         0.8419\n",
              "RandomForestClassifier      0.7823         0.8638\n",
              "LGBMClassifier              0.7844         0.8419\n",
              "XGBClassifier               0.8064         0.8582"
            ]
          },
          "metadata": {
            "tags": []
          },
          "execution_count": 28
        }
      ]
    },
    {
      "cell_type": "markdown",
      "metadata": {
        "id": "vkRNw3kitC-I",
        "colab_type": "text"
      },
      "source": [
        "Pode-se perceber que os modelos obtiveram melhor performance com a técnica SMOTE. Além disso, os classificadores com melhores avaliações foram *Random Forest* e XGBoost, respectivamente. Sendo assim, iremos otimizar os hiperparâmetros para ambos os classificadores com otimização Bayesiana, falo mais sobre este algoritmo [neste artigo](https://medium.com/@beniciowg/como-tunar-hiperpar%C3%A2metros-com-otimiza%C3%A7%C3%A3o-bayesiana-5687fd51370f). Novamente, vamos comparar sua performance entre as diferentes técnicas de balanceamento dos dados."
      ]
    },
    {
      "cell_type": "code",
      "metadata": {
        "id": "JdssD_IPRGH1",
        "colab_type": "code",
        "colab": {
          "base_uri": "https://localhost:8080/",
          "height": 34
        },
        "outputId": "c660699a-863a-479c-daa9-01d7dfd64095"
      },
      "source": [
        "# instanciando o classificador\n",
        "xgb = XGBClassifier(random_state=1)\n",
        "\n",
        "# determinando a faixa de valores a serem testados para cada hiperparâmetro\n",
        "space = {\n",
        "    'max_depth': Integer(1, 25),\n",
        "    'learning_rate': Real(1e-3, 1e-1, 'log-uniform'),\n",
        "    'gamma': Real(0.05, 1.0, 'log-uniform'),\n",
        "    'min_child_weight': Integer(1, 50),\n",
        "    'subsample': Real(0.05, 1.0),\n",
        "    'colsample_bytree': Real(0.06, 1.0)\n",
        "}\n",
        "\n",
        "# definindo o número de divisões para o cross-validation\n",
        "cv = StratifiedKFold(n_splits=10, shuffle=True)\n",
        "\n",
        "# instanciando o otimizador e aplicando-o aos nossos dados\n",
        "xgb_opt_rus = BayesSearchCV(xgb, space, n_iter=32, random_state=2, cv=cv, \n",
        "                    return_train_score=True, scoring='recall', refit=True)\n",
        "xgb_opt_rus.fit(X_train_rus, y_train_rus)\n",
        "\n",
        "print(f'Best Recall: {round(xgb_opt_rus.best_score_, 4)}')"
      ],
      "execution_count": 29,
      "outputs": [
        {
          "output_type": "stream",
          "text": [
            "Best Recall: 0.8844\n"
          ],
          "name": "stdout"
        }
      ]
    },
    {
      "cell_type": "markdown",
      "metadata": {
        "id": "S2yJSpnWulF4",
        "colab_type": "text"
      },
      "source": [
        "O melhor *Recall* obtido dentro do cross-validation com o XGBoost e a técnica de Undersampling foi de 0.88. Agora, vamos padronizar os dados do conjunto de teste e aplicar o modelo para avaliarmos."
      ]
    },
    {
      "cell_type": "code",
      "metadata": {
        "id": "BoT7EOg11Rmy",
        "colab_type": "code",
        "colab": {}
      },
      "source": [
        "# instanciando o padronizador e aplicando ao conjunto de teste\n",
        "scaler = StandardScaler().fit(X_test)\n",
        "X_test = scaler.transform(X_test)"
      ],
      "execution_count": 30,
      "outputs": []
    },
    {
      "cell_type": "code",
      "metadata": {
        "id": "Ae_6BFSVuH_R",
        "colab_type": "code",
        "colab": {
          "base_uri": "https://localhost:8080/",
          "height": 527
        },
        "outputId": "c92d55a1-b094-44cb-9a17-36d26676d3cf"
      },
      "source": [
        "# realizando a classificação do conjunto de teste com nosso modelo otimizado\n",
        "y_pred = xgb_opt_rus.predict(X_test)\n",
        "y_prob = xgb_opt_rus.predict_proba(X_test)\n",
        "\n",
        "precision, recall, threshold = precision_recall_curve(y_test, y_prob[:, 1])\n",
        "\n",
        "print(classification_report(y_test, y_pred))\n",
        "print(f'AUC: {round(auc(recall, precision), 2)}')\n",
        "skplt.metrics.plot_confusion_matrix(y_test, y_pred, figsize=(6,6), normalize=True);"
      ],
      "execution_count": 31,
      "outputs": [
        {
          "output_type": "stream",
          "text": [
            "              precision    recall  f1-score   support\n",
            "\n",
            "           0       0.94      0.58      0.71      1302\n",
            "           1       0.42      0.89      0.57       459\n",
            "\n",
            "    accuracy                           0.66      1761\n",
            "   macro avg       0.68      0.73      0.64      1761\n",
            "weighted avg       0.80      0.66      0.68      1761\n",
            "\n",
            "AUC: 0.64\n"
          ],
          "name": "stdout"
        },
        {
          "output_type": "display_data",
          "data": {
            "image/png": "[encoded data removed]",
            "text/plain": [
              "<Figure size 432x432 with 2 Axes>"
            ]
          },
          "metadata": {
            "tags": []
          }
        }
      ]
    },
    {
      "cell_type": "markdown",
      "metadata": {
        "id": "4dqaO_levOIa",
        "colab_type": "text"
      },
      "source": [
        "O valor obtido no conjunto de teste foi de 0.89, levemente superior ao obtido com o cross-validation, o que é bom, pois denota que nosso modelo não está com overfitting. O ponto negativo é que podemos perceber que o *Precision* está com um valor baixo (0.58), ou seja, 42% dos clientes que não realizaram *churn* foram classificados como sendo da classe positiva (clientes que realizaram *churn*)."
      ]
    },
    {
      "cell_type": "code",
      "metadata": {
        "id": "68-emfdH-AQy",
        "colab_type": "code",
        "colab": {
          "base_uri": "https://localhost:8080/",
          "height": 34
        },
        "outputId": "f84c1123-5939-4a7b-d316-991fdb794e30"
      },
      "source": [
        "# instanciando o classificador\n",
        "xgb = XGBClassifier(random_state=3)\n",
        "\n",
        "# determinando a faixa de valores a serem testados para cada hiperparâmetro\n",
        "space = {\n",
        "    'max_depth': Integer(1, 25),\n",
        "    'learning_rate': Real(1e-3, 1e-1, 'log-uniform'),\n",
        "    'gamma': Real(0.05, 1.0, 'log-uniform'),\n",
        "    'min_child_weight': Integer(1, 50),\n",
        "    'subsample': Real(0.05, 1.0),\n",
        "    'colsample_bytree': Real(0.06, 1.0)\n",
        "}\n",
        "\n",
        "# definindo o número de divisões para o cross-validation\n",
        "cv = StratifiedKFold(n_splits=10, shuffle=True)\n",
        "\n",
        "# instanciando o otimizador e aplicando-o aos nossos dados\n",
        "xgb_opt_over = BayesSearchCV(xgb, space, n_iter=32, random_state=4, cv=cv, \n",
        "                    return_train_score=True, scoring='recall', refit=True)\n",
        "xgb_opt_over.fit(X_train_over, y_train_over)\n",
        "\n",
        "print(f'Best Recall: {round(xgb_opt_over.best_score_, 4)}')"
      ],
      "execution_count": 32,
      "outputs": [
        {
          "output_type": "stream",
          "text": [
            "Best Recall: 1.0\n"
          ],
          "name": "stdout"
        }
      ]
    },
    {
      "cell_type": "markdown",
      "metadata": {
        "id": "ENunvhgixPxb",
        "colab_type": "text"
      },
      "source": [
        "Verificamos que o *Recall* para o XGBoost com SMOTE obteve valor máximo de 1.0. Isso pode parecer bom, mas é bem provável que tenha ocorrido um overfitting em nossos dados de treino e que esse modelo não performará tão bem nos dados de teste. Vamos conferir!"
      ]
    },
    {
      "cell_type": "code",
      "metadata": {
        "id": "dSFZFIMhMGGV",
        "colab_type": "code",
        "colab": {
          "base_uri": "https://localhost:8080/",
          "height": 527
        },
        "outputId": "0327303a-bdaa-4fba-f896-c0d7d667a96c"
      },
      "source": [
        "# realizando a classificação do conjunto de teste com nosso modelo otimizado\n",
        "y_pred = xgb_opt_over.predict(X_test)\n",
        "y_prob = xgb_opt_over.predict_proba(X_test)\n",
        "\n",
        "precision, recall, threshold = precision_recall_curve(y_test, y_prob[:, 1])\n",
        "\n",
        "print(classification_report(y_test, y_pred))\n",
        "print(f'AUC: {round(auc(recall, precision), 2)}')\n",
        "skplt.metrics.plot_confusion_matrix(y_test, y_pred, figsize=(6,6), normalize=True);"
      ],
      "execution_count": 33,
      "outputs": [
        {
          "output_type": "stream",
          "text": [
            "              precision    recall  f1-score   support\n",
            "\n",
            "           0       0.86      0.65      0.74      1302\n",
            "           1       0.41      0.71      0.52       459\n",
            "\n",
            "    accuracy                           0.66      1761\n",
            "   macro avg       0.64      0.68      0.63      1761\n",
            "weighted avg       0.75      0.66      0.68      1761\n",
            "\n",
            "AUC: 0.57\n"
          ],
          "name": "stdout"
        },
        {
          "output_type": "display_data",
          "data": {
            "image/png": "[encoded data removed]",
            "text/plain": [
              "<Figure size 432x432 with 2 Axes>"
            ]
          },
          "metadata": {
            "tags": []
          }
        }
      ]
    },
    {
      "cell_type": "markdown",
      "metadata": {
        "id": "x8l13Fv_yXtR",
        "colab_type": "text"
      },
      "source": [
        "Como imaginamos, o *Recall* obtido no conjunto de teste foi de 0.71, bem abaixo dos modelos sem otimização. Isso se dá devido ao *overfitting* do modelo aos nossos dados de treino, não funcionando bem ao classificar dados fora desse conjunto. Vamos otimizar agora os hiperparâmetros para o *Random Forest*."
      ]
    },
    {
      "cell_type": "code",
      "metadata": {
        "id": "QPemUeD5iPcV",
        "colab_type": "code",
        "colab": {
          "base_uri": "https://localhost:8080/",
          "height": 34
        },
        "outputId": "c0bbe7a7-aec5-40d7-d1fd-6c22f095db3b"
      },
      "source": [
        "# instanciando o classificador\n",
        "rf = RandomForestClassifier(random_state=5)\n",
        "\n",
        "# determinando a faixa de valores a serem testados para cada hiperparâmetro\n",
        "space = {\n",
        "    'max_depth': Integer(1, 30),\n",
        "    'n_estimators': Integer(10, 1000),\n",
        "    'min_samples_split': Integer(2, 100),\n",
        "    'min_samples_leaf': Integer(1, 10),\n",
        "    'max_features': Integer(1, 20)\n",
        "}\n",
        "\n",
        "# definindo o número de divisões para o cross-validation\n",
        "cv = StratifiedKFold(n_splits=10, shuffle=True)\n",
        "\n",
        "# instanciando o otimizador e aplicando-o aos nossos dados\n",
        "rf_opt_rus = BayesSearchCV(rf, space, n_iter=32, random_state=6, cv=cv, \n",
        "                    return_train_score=True, scoring='recall', refit=True)\n",
        "rf_opt_rus.fit(X_train_rus, y_train_rus)\n",
        "\n",
        "print(f'Best Recall: {round(rf_opt_rus.best_score_, 4)}')"
      ],
      "execution_count": 34,
      "outputs": [
        {
          "output_type": "stream",
          "text": [
            "Best Recall: 0.8844\n"
          ],
          "name": "stdout"
        }
      ]
    },
    {
      "cell_type": "code",
      "metadata": {
        "id": "bMz8gI63iYjg",
        "colab_type": "code",
        "colab": {
          "base_uri": "https://localhost:8080/",
          "height": 527
        },
        "outputId": "ead518d1-baee-48a6-b9b8-3d4cf3c25e47"
      },
      "source": [
        "# realizando a classificação do conjunto de teste com nosso modelo otimizado\n",
        "y_pred = rf_opt_rus.predict(X_test)\n",
        "y_prob = rf_opt_rus.predict_proba(X_test)\n",
        "\n",
        "precision, recall, threshold = precision_recall_curve(y_test, y_prob[:, 1])\n",
        "\n",
        "print(classification_report(y_test, y_pred))\n",
        "print(f'AUC: {round(auc(recall, precision), 2)}')\n",
        "skplt.metrics.plot_confusion_matrix(y_test, y_pred, figsize=(6,6), normalize=True);"
      ],
      "execution_count": 35,
      "outputs": [
        {
          "output_type": "stream",
          "text": [
            "              precision    recall  f1-score   support\n",
            "\n",
            "           0       0.94      0.58      0.71      1302\n",
            "           1       0.42      0.89      0.57       459\n",
            "\n",
            "    accuracy                           0.66      1761\n",
            "   macro avg       0.68      0.73      0.64      1761\n",
            "weighted avg       0.80      0.66      0.68      1761\n",
            "\n",
            "AUC: 0.63\n"
          ],
          "name": "stdout"
        },
        {
          "output_type": "display_data",
          "data": {
            "image/png": "[encoded data removed]",
            "text/plain": [
              "<Figure size 432x432 with 2 Axes>"
            ]
          },
          "metadata": {
            "tags": []
          }
        }
      ]
    },
    {
      "cell_type": "markdown",
      "metadata": {
        "id": "tw-8_rlQzTkM",
        "colab_type": "text"
      },
      "source": [
        "Nosso modelo de *Random Forest* obteve uma performance muito semelhante ao XGBoost com a técnica de *Undersampling*, com um *Recall* de 0.88 para o cross-validation e 0.89 nos dados de teste. Por último, vamos analisar o *Random Forest* com SMOTE."
      ]
    },
    {
      "cell_type": "code",
      "metadata": {
        "id": "PJlshjYzicji",
        "colab_type": "code",
        "colab": {
          "base_uri": "https://localhost:8080/",
          "height": 34
        },
        "outputId": "0a818f7d-163c-4560-dfdb-e320629116ba"
      },
      "source": [
        "# instanciando o classificador\n",
        "rf = RandomForestClassifier(random_state=7)\n",
        "\n",
        "# determinando a faixa de valores a serem testados para cada hiperparâmetro\n",
        "space = {\n",
        "    'max_depth': Integer(1, 30),\n",
        "    'n_estimators': Integer(10, 1000),\n",
        "    'min_samples_split': Integer(2, 100),\n",
        "    'min_samples_leaf': Integer(1, 10),\n",
        "    'max_features': Integer(1, 20)\n",
        "}\n",
        "\n",
        "# definindo o número de divisões para o cross-validation\n",
        "cv = StratifiedKFold(n_splits=10, shuffle=True)\n",
        "\n",
        "# instanciando o otimizador e aplicando-o aos nossos dados\n",
        "rf_opt_over = BayesSearchCV(rf, space, n_iter=32, random_state=8, cv=cv, \n",
        "                    return_train_score=True, scoring='recall', refit=True)\n",
        "rf_opt_over.fit(X_train_over, y_train_over)\n",
        "\n",
        "print(f'Best Recall: {round(rf_opt_over.best_score_, 4)}')"
      ],
      "execution_count": 36,
      "outputs": [
        {
          "output_type": "stream",
          "text": [
            "Best Recall: 0.9016\n"
          ],
          "name": "stdout"
        }
      ]
    },
    {
      "cell_type": "code",
      "metadata": {
        "id": "jXxT6nO9ilqW",
        "colab_type": "code",
        "colab": {
          "base_uri": "https://localhost:8080/",
          "height": 527
        },
        "outputId": "3f06f098-29c4-4867-8ba8-86cfce6a5b51"
      },
      "source": [
        "# realizando a classificação do conjunto de teste com nosso modelo otimizado\n",
        "y_pred = rf_opt_over.predict(X_test)\n",
        "y_prob = rf_opt_over.predict_proba(X_test)\n",
        "\n",
        "precision, recall, threshold = precision_recall_curve(y_test, y_prob[:, 1])\n",
        "\n",
        "print(classification_report(y_test, y_pred))\n",
        "print(f'AUC: {round(auc(recall, precision), 2)}')\n",
        "skplt.metrics.plot_confusion_matrix(y_test, y_pred, figsize=(6,6), normalize=True);"
      ],
      "execution_count": 37,
      "outputs": [
        {
          "output_type": "stream",
          "text": [
            "              precision    recall  f1-score   support\n",
            "\n",
            "           0       0.98      0.28      0.44      1302\n",
            "           1       0.33      0.98      0.49       459\n",
            "\n",
            "    accuracy                           0.47      1761\n",
            "   macro avg       0.65      0.63      0.47      1761\n",
            "weighted avg       0.81      0.47      0.45      1761\n",
            "\n",
            "AUC: 0.63\n"
          ],
          "name": "stdout"
        },
        {
          "output_type": "display_data",
          "data": {
            "image/png": "[encoded data removed]",
            "text/plain": [
              "<Figure size 432x432 with 2 Axes>"
            ]
          },
          "metadata": {
            "tags": []
          }
        }
      ]
    },
    {
      "cell_type": "markdown",
      "metadata": {
        "id": "ShsKp4ME5lfg",
        "colab_type": "text"
      },
      "source": [
        "O classificador *Random Forest* com o SMOTE obteve a melhor performance entre todos com um *Recall* de 0.98. No entanto, vale destacar que o *Precision* ficou baixo com um valor de 0.33. Isso significa que identificaríamos 98% dos clientes que realizariam *churn*, porém, também classificaríamos equivocadamente 67% dos clientes que não cancelariam os serviços. Ou seja, o *trade-off* entre *Precision* e *Recall* não ficou bom. "
      ]
    },
    {
      "cell_type": "markdown",
      "metadata": {
        "id": "Xy6L_SbI6kW0",
        "colab_type": "text"
      },
      "source": [
        "# Conclusão\n",
        "\n",
        "Foi possível obter diversas informações sobre os clientes que deixam a empresa, além de termos comparado diferentes modelos para classificação desses clientes. Vimos que os classificadores com o melhor *trade-off* entre as métricas de *Precision* e *Recall* foram o XGBoost e o *Random Forest* aliados à técnica de *Undersampling* para balanceamento dos dados de treino.\n",
        "\n",
        "No entanto, o classificador que conseguiu identificar a maior quantidade de pessoas que deixariam a empresa foi o *Random Forest* aliado à técnica de SMOTE. Para conseguir isso, ele perde muito no *Precision*, classificando erroneamente muitas pessoas que não deixariam a empresa.\n",
        "\n",
        "Para saber qual das opções seria utilizada, dependeria muito do que é priorizado. Como é mais custoso para as empresas conseguirem novos clientes do que manter os atuais, talvez seja mais vantajoso utilizar o modelo que identifica a maior quantidade possível de *churn*. \n",
        "\n",
        "Esse seria um caso onde os diferentes cenários seriam levados aos *stakeholders* da empresa para tomada de decisão baseada em suas prioridades.\n",
        "\n",
        "Muito obrigado por ficar até o final! Espero que você tenha aprendido como é possível utilizar modelos de *machine learning* para prever quais clientes deixarão a sua empresa. Se quiser descobrir mais aplicações dessa área, me siga também no [Github](https://github.com/beniciowg/data-science-projects) e no [LinkedIn](https://www.linkedin.com/in/benicio-wiggers-jr/)."
      ]
    }
  ]
}